{
 "cells": [
  {
   "cell_type": "code",
   "execution_count": 6,
   "id": "4595002b",
   "metadata": {},
   "outputs": [],
   "source": [
    "# Importing all libraries from other file\n",
    "\n",
    "%run Libraries.ipynb"
   ]
  },
  {
   "cell_type": "code",
   "execution_count": 7,
   "id": "f868b546",
   "metadata": {},
   "outputs": [],
   "source": [
    "# Loading dataset\n",
    "Before_Pandemic1 = pd.read_csv('Before_Pandemic1.csv', index_col ='REF_DATE')\n",
    "\n",
    "During_Pandemic1 = pd.read_csv('During_Pandemic1.csv', index_col ='REF_DATE')"
   ]
  },
  {
   "cell_type": "code",
   "execution_count": 8,
   "id": "0790cc77",
   "metadata": {},
   "outputs": [
    {
     "data": {
      "text/html": [
       "<div>\n",
       "<style scoped>\n",
       "    .dataframe tbody tr th:only-of-type {\n",
       "        vertical-align: middle;\n",
       "    }\n",
       "\n",
       "    .dataframe tbody tr th {\n",
       "        vertical-align: top;\n",
       "    }\n",
       "\n",
       "    .dataframe thead th {\n",
       "        text-align: right;\n",
       "    }\n",
       "</style>\n",
       "<table border=\"1\" class=\"dataframe\">\n",
       "  <thead>\n",
       "    <tr style=\"text-align: right;\">\n",
       "      <th></th>\n",
       "      <th>GEO</th>\n",
       "      <th>Labour_characteristics</th>\n",
       "      <th>NAICS</th>\n",
       "      <th>Sex</th>\n",
       "      <th>Age group</th>\n",
       "      <th>VALUE</th>\n",
       "      <th>GEO_Cat</th>\n",
       "      <th>NAICS_Cat</th>\n",
       "    </tr>\n",
       "    <tr>\n",
       "      <th>REF_DATE</th>\n",
       "      <th></th>\n",
       "      <th></th>\n",
       "      <th></th>\n",
       "      <th></th>\n",
       "      <th></th>\n",
       "      <th></th>\n",
       "      <th></th>\n",
       "      <th></th>\n",
       "    </tr>\n",
       "  </thead>\n",
       "  <tbody>\n",
       "    <tr>\n",
       "      <th>2017</th>\n",
       "      <td>Canada</td>\n",
       "      <td>3</td>\n",
       "      <td>Total, all industries</td>\n",
       "      <td>0</td>\n",
       "      <td>0</td>\n",
       "      <td>19530.3</td>\n",
       "      <td>2</td>\n",
       "      <td>23</td>\n",
       "    </tr>\n",
       "    <tr>\n",
       "      <th>2017</th>\n",
       "      <td>Canada</td>\n",
       "      <td>3</td>\n",
       "      <td>Total, all industries</td>\n",
       "      <td>0</td>\n",
       "      <td>1</td>\n",
       "      <td>2829.8</td>\n",
       "      <td>2</td>\n",
       "      <td>23</td>\n",
       "    </tr>\n",
       "    <tr>\n",
       "      <th>2017</th>\n",
       "      <td>Canada</td>\n",
       "      <td>3</td>\n",
       "      <td>Total, all industries</td>\n",
       "      <td>0</td>\n",
       "      <td>2</td>\n",
       "      <td>12634.6</td>\n",
       "      <td>2</td>\n",
       "      <td>23</td>\n",
       "    </tr>\n",
       "    <tr>\n",
       "      <th>2017</th>\n",
       "      <td>Canada</td>\n",
       "      <td>3</td>\n",
       "      <td>Total, all industries</td>\n",
       "      <td>0</td>\n",
       "      <td>3</td>\n",
       "      <td>4065.8</td>\n",
       "      <td>2</td>\n",
       "      <td>23</td>\n",
       "    </tr>\n",
       "    <tr>\n",
       "      <th>2017</th>\n",
       "      <td>Canada</td>\n",
       "      <td>3</td>\n",
       "      <td>Total, all industries</td>\n",
       "      <td>1</td>\n",
       "      <td>0</td>\n",
       "      <td>10305.3</td>\n",
       "      <td>2</td>\n",
       "      <td>23</td>\n",
       "    </tr>\n",
       "    <tr>\n",
       "      <th>...</th>\n",
       "      <td>...</td>\n",
       "      <td>...</td>\n",
       "      <td>...</td>\n",
       "      <td>...</td>\n",
       "      <td>...</td>\n",
       "      <td>...</td>\n",
       "      <td>...</td>\n",
       "      <td>...</td>\n",
       "    </tr>\n",
       "    <tr>\n",
       "      <th>2019</th>\n",
       "      <td>British Columbia</td>\n",
       "      <td>0</td>\n",
       "      <td>Unclassified industries</td>\n",
       "      <td>1</td>\n",
       "      <td>3</td>\n",
       "      <td>6.0</td>\n",
       "      <td>1</td>\n",
       "      <td>25</td>\n",
       "    </tr>\n",
       "    <tr>\n",
       "      <th>2019</th>\n",
       "      <td>British Columbia</td>\n",
       "      <td>0</td>\n",
       "      <td>Unclassified industries</td>\n",
       "      <td>2</td>\n",
       "      <td>0</td>\n",
       "      <td>25.3</td>\n",
       "      <td>1</td>\n",
       "      <td>25</td>\n",
       "    </tr>\n",
       "    <tr>\n",
       "      <th>2019</th>\n",
       "      <td>British Columbia</td>\n",
       "      <td>0</td>\n",
       "      <td>Unclassified industries</td>\n",
       "      <td>2</td>\n",
       "      <td>1</td>\n",
       "      <td>6.3</td>\n",
       "      <td>1</td>\n",
       "      <td>25</td>\n",
       "    </tr>\n",
       "    <tr>\n",
       "      <th>2019</th>\n",
       "      <td>British Columbia</td>\n",
       "      <td>0</td>\n",
       "      <td>Unclassified industries</td>\n",
       "      <td>2</td>\n",
       "      <td>2</td>\n",
       "      <td>15.4</td>\n",
       "      <td>1</td>\n",
       "      <td>25</td>\n",
       "    </tr>\n",
       "    <tr>\n",
       "      <th>2019</th>\n",
       "      <td>British Columbia</td>\n",
       "      <td>0</td>\n",
       "      <td>Unclassified industries</td>\n",
       "      <td>2</td>\n",
       "      <td>3</td>\n",
       "      <td>3.7</td>\n",
       "      <td>1</td>\n",
       "      <td>25</td>\n",
       "    </tr>\n",
       "  </tbody>\n",
       "</table>\n",
       "<p>42365 rows × 8 columns</p>\n",
       "</div>"
      ],
      "text/plain": [
       "                       GEO  Labour_characteristics                    NAICS  \\\n",
       "REF_DATE                                                                      \n",
       "2017                Canada                       3    Total, all industries   \n",
       "2017                Canada                       3    Total, all industries   \n",
       "2017                Canada                       3    Total, all industries   \n",
       "2017                Canada                       3    Total, all industries   \n",
       "2017                Canada                       3    Total, all industries   \n",
       "...                    ...                     ...                      ...   \n",
       "2019      British Columbia                       0  Unclassified industries   \n",
       "2019      British Columbia                       0  Unclassified industries   \n",
       "2019      British Columbia                       0  Unclassified industries   \n",
       "2019      British Columbia                       0  Unclassified industries   \n",
       "2019      British Columbia                       0  Unclassified industries   \n",
       "\n",
       "          Sex  Age group    VALUE  GEO_Cat  NAICS_Cat  \n",
       "REF_DATE                                               \n",
       "2017        0          0  19530.3        2         23  \n",
       "2017        0          1   2829.8        2         23  \n",
       "2017        0          2  12634.6        2         23  \n",
       "2017        0          3   4065.8        2         23  \n",
       "2017        1          0  10305.3        2         23  \n",
       "...       ...        ...      ...      ...        ...  \n",
       "2019        1          3      6.0        1         25  \n",
       "2019        2          0     25.3        1         25  \n",
       "2019        2          1      6.3        1         25  \n",
       "2019        2          2     15.4        1         25  \n",
       "2019        2          3      3.7        1         25  \n",
       "\n",
       "[42365 rows x 8 columns]"
      ]
     },
     "execution_count": 8,
     "metadata": {},
     "output_type": "execute_result"
    }
   ],
   "source": [
    "Before_Pandemic1"
   ]
  },
  {
   "cell_type": "markdown",
   "id": "5741805b",
   "metadata": {},
   "source": [
    "### Prediction on 'Before_Pandemic' data"
   ]
  },
  {
   "cell_type": "code",
   "execution_count": 4,
   "id": "6e2a0d06",
   "metadata": {},
   "outputs": [
    {
     "data": {
      "text/plain": [
       "33892"
      ]
     },
     "execution_count": 4,
     "metadata": {},
     "output_type": "execute_result"
    }
   ],
   "source": [
    "# Dividing data manually in train and test with 80-20 ratio\n",
    "\n",
    "Percentage=round(len(Before_Pandemic1)/100*80)\n",
    "\n",
    "Percentage"
   ]
  },
  {
   "cell_type": "code",
   "execution_count": 5,
   "id": "6a31c6d1",
   "metadata": {},
   "outputs": [
    {
     "data": {
      "text/html": [
       "<div>\n",
       "<style scoped>\n",
       "    .dataframe tbody tr th:only-of-type {\n",
       "        vertical-align: middle;\n",
       "    }\n",
       "\n",
       "    .dataframe tbody tr th {\n",
       "        vertical-align: top;\n",
       "    }\n",
       "\n",
       "    .dataframe thead th {\n",
       "        text-align: right;\n",
       "    }\n",
       "</style>\n",
       "<table border=\"1\" class=\"dataframe\">\n",
       "  <thead>\n",
       "    <tr style=\"text-align: right;\">\n",
       "      <th></th>\n",
       "      <th>GEO</th>\n",
       "      <th>Labour_characteristics</th>\n",
       "      <th>NAICS</th>\n",
       "      <th>Sex</th>\n",
       "      <th>Age group</th>\n",
       "      <th>VALUE</th>\n",
       "      <th>GEO_Cat</th>\n",
       "      <th>NAICS_Cat</th>\n",
       "    </tr>\n",
       "    <tr>\n",
       "      <th>REF_DATE</th>\n",
       "      <th></th>\n",
       "      <th></th>\n",
       "      <th></th>\n",
       "      <th></th>\n",
       "      <th></th>\n",
       "      <th></th>\n",
       "      <th></th>\n",
       "      <th></th>\n",
       "    </tr>\n",
       "  </thead>\n",
       "  <tbody>\n",
       "    <tr>\n",
       "      <th>2017</th>\n",
       "      <td>Canada</td>\n",
       "      <td>3</td>\n",
       "      <td>Total, all industries</td>\n",
       "      <td>0</td>\n",
       "      <td>0</td>\n",
       "      <td>19530.3</td>\n",
       "      <td>2</td>\n",
       "      <td>23</td>\n",
       "    </tr>\n",
       "    <tr>\n",
       "      <th>2017</th>\n",
       "      <td>Canada</td>\n",
       "      <td>3</td>\n",
       "      <td>Total, all industries</td>\n",
       "      <td>0</td>\n",
       "      <td>1</td>\n",
       "      <td>2829.8</td>\n",
       "      <td>2</td>\n",
       "      <td>23</td>\n",
       "    </tr>\n",
       "    <tr>\n",
       "      <th>2017</th>\n",
       "      <td>Canada</td>\n",
       "      <td>3</td>\n",
       "      <td>Total, all industries</td>\n",
       "      <td>0</td>\n",
       "      <td>2</td>\n",
       "      <td>12634.6</td>\n",
       "      <td>2</td>\n",
       "      <td>23</td>\n",
       "    </tr>\n",
       "    <tr>\n",
       "      <th>2017</th>\n",
       "      <td>Canada</td>\n",
       "      <td>3</td>\n",
       "      <td>Total, all industries</td>\n",
       "      <td>0</td>\n",
       "      <td>3</td>\n",
       "      <td>4065.8</td>\n",
       "      <td>2</td>\n",
       "      <td>23</td>\n",
       "    </tr>\n",
       "    <tr>\n",
       "      <th>2017</th>\n",
       "      <td>Canada</td>\n",
       "      <td>3</td>\n",
       "      <td>Total, all industries</td>\n",
       "      <td>1</td>\n",
       "      <td>0</td>\n",
       "      <td>10305.3</td>\n",
       "      <td>2</td>\n",
       "      <td>23</td>\n",
       "    </tr>\n",
       "    <tr>\n",
       "      <th>...</th>\n",
       "      <td>...</td>\n",
       "      <td>...</td>\n",
       "      <td>...</td>\n",
       "      <td>...</td>\n",
       "      <td>...</td>\n",
       "      <td>...</td>\n",
       "      <td>...</td>\n",
       "      <td>...</td>\n",
       "    </tr>\n",
       "    <tr>\n",
       "      <th>2019</th>\n",
       "      <td>New Brunswick</td>\n",
       "      <td>2</td>\n",
       "      <td>Forestry, fishing, mining, quarrying, oil and ...</td>\n",
       "      <td>1</td>\n",
       "      <td>0</td>\n",
       "      <td>8.3</td>\n",
       "      <td>4</td>\n",
       "      <td>10</td>\n",
       "    </tr>\n",
       "    <tr>\n",
       "      <th>2019</th>\n",
       "      <td>New Brunswick</td>\n",
       "      <td>2</td>\n",
       "      <td>Forestry, fishing, mining, quarrying, oil and ...</td>\n",
       "      <td>1</td>\n",
       "      <td>1</td>\n",
       "      <td>0.7</td>\n",
       "      <td>4</td>\n",
       "      <td>10</td>\n",
       "    </tr>\n",
       "    <tr>\n",
       "      <th>2019</th>\n",
       "      <td>New Brunswick</td>\n",
       "      <td>2</td>\n",
       "      <td>Forestry, fishing, mining, quarrying, oil and ...</td>\n",
       "      <td>1</td>\n",
       "      <td>2</td>\n",
       "      <td>5.4</td>\n",
       "      <td>4</td>\n",
       "      <td>10</td>\n",
       "    </tr>\n",
       "    <tr>\n",
       "      <th>2019</th>\n",
       "      <td>New Brunswick</td>\n",
       "      <td>2</td>\n",
       "      <td>Forestry, fishing, mining, quarrying, oil and ...</td>\n",
       "      <td>1</td>\n",
       "      <td>3</td>\n",
       "      <td>2.2</td>\n",
       "      <td>4</td>\n",
       "      <td>10</td>\n",
       "    </tr>\n",
       "    <tr>\n",
       "      <th>2019</th>\n",
       "      <td>New Brunswick</td>\n",
       "      <td>2</td>\n",
       "      <td>Forestry, fishing, mining, quarrying, oil and ...</td>\n",
       "      <td>2</td>\n",
       "      <td>0</td>\n",
       "      <td>1.7</td>\n",
       "      <td>4</td>\n",
       "      <td>10</td>\n",
       "    </tr>\n",
       "  </tbody>\n",
       "</table>\n",
       "<p>33892 rows × 8 columns</p>\n",
       "</div>"
      ],
      "text/plain": [
       "                    GEO  Labour_characteristics  \\\n",
       "REF_DATE                                          \n",
       "2017             Canada                       3   \n",
       "2017             Canada                       3   \n",
       "2017             Canada                       3   \n",
       "2017             Canada                       3   \n",
       "2017             Canada                       3   \n",
       "...                 ...                     ...   \n",
       "2019      New Brunswick                       2   \n",
       "2019      New Brunswick                       2   \n",
       "2019      New Brunswick                       2   \n",
       "2019      New Brunswick                       2   \n",
       "2019      New Brunswick                       2   \n",
       "\n",
       "                                                      NAICS  Sex  Age group  \\\n",
       "REF_DATE                                                                      \n",
       "2017                                  Total, all industries    0          0   \n",
       "2017                                  Total, all industries    0          1   \n",
       "2017                                  Total, all industries    0          2   \n",
       "2017                                  Total, all industries    0          3   \n",
       "2017                                  Total, all industries    1          0   \n",
       "...                                                     ...  ...        ...   \n",
       "2019      Forestry, fishing, mining, quarrying, oil and ...    1          0   \n",
       "2019      Forestry, fishing, mining, quarrying, oil and ...    1          1   \n",
       "2019      Forestry, fishing, mining, quarrying, oil and ...    1          2   \n",
       "2019      Forestry, fishing, mining, quarrying, oil and ...    1          3   \n",
       "2019      Forestry, fishing, mining, quarrying, oil and ...    2          0   \n",
       "\n",
       "            VALUE  GEO_Cat  NAICS_Cat  \n",
       "REF_DATE                               \n",
       "2017      19530.3        2         23  \n",
       "2017       2829.8        2         23  \n",
       "2017      12634.6        2         23  \n",
       "2017       4065.8        2         23  \n",
       "2017      10305.3        2         23  \n",
       "...           ...      ...        ...  \n",
       "2019          8.3        4         10  \n",
       "2019          0.7        4         10  \n",
       "2019          5.4        4         10  \n",
       "2019          2.2        4         10  \n",
       "2019          1.7        4         10  \n",
       "\n",
       "[33892 rows x 8 columns]"
      ]
     },
     "execution_count": 5,
     "metadata": {},
     "output_type": "execute_result"
    }
   ],
   "source": [
    "train = Before_Pandemic1.head(Percentage)\n",
    "\n",
    "train"
   ]
  },
  {
   "cell_type": "code",
   "execution_count": 6,
   "id": "e6f60e9e",
   "metadata": {},
   "outputs": [
    {
     "data": {
      "text/plain": [
       "GEO                                                           New Brunswick\n",
       "Labour_characteristics                                                    2\n",
       "NAICS                     Forestry, fishing, mining, quarrying, oil and ...\n",
       "Sex                                                                       2\n",
       "Age group                                                                 2\n",
       "VALUE                                                                   1.2\n",
       "GEO_Cat                                                                   4\n",
       "NAICS_Cat                                                                10\n",
       "Name: 2019, dtype: object"
      ]
     },
     "execution_count": 6,
     "metadata": {},
     "output_type": "execute_result"
    }
   ],
   "source": [
    "Before_Pandemic1.iloc[33892, :]"
   ]
  },
  {
   "cell_type": "code",
   "execution_count": 7,
   "id": "227cb5e8",
   "metadata": {},
   "outputs": [
    {
     "data": {
      "text/html": [
       "<div>\n",
       "<style scoped>\n",
       "    .dataframe tbody tr th:only-of-type {\n",
       "        vertical-align: middle;\n",
       "    }\n",
       "\n",
       "    .dataframe tbody tr th {\n",
       "        vertical-align: top;\n",
       "    }\n",
       "\n",
       "    .dataframe thead th {\n",
       "        text-align: right;\n",
       "    }\n",
       "</style>\n",
       "<table border=\"1\" class=\"dataframe\">\n",
       "  <thead>\n",
       "    <tr style=\"text-align: right;\">\n",
       "      <th></th>\n",
       "      <th>GEO</th>\n",
       "      <th>Labour_characteristics</th>\n",
       "      <th>NAICS</th>\n",
       "      <th>Sex</th>\n",
       "      <th>Age group</th>\n",
       "      <th>VALUE</th>\n",
       "      <th>GEO_Cat</th>\n",
       "      <th>NAICS_Cat</th>\n",
       "    </tr>\n",
       "    <tr>\n",
       "      <th>REF_DATE</th>\n",
       "      <th></th>\n",
       "      <th></th>\n",
       "      <th></th>\n",
       "      <th></th>\n",
       "      <th></th>\n",
       "      <th></th>\n",
       "      <th></th>\n",
       "      <th></th>\n",
       "    </tr>\n",
       "  </thead>\n",
       "  <tbody>\n",
       "    <tr>\n",
       "      <th>2019</th>\n",
       "      <td>New Brunswick</td>\n",
       "      <td>2</td>\n",
       "      <td>Forestry, fishing, mining, quarrying, oil and ...</td>\n",
       "      <td>2</td>\n",
       "      <td>2</td>\n",
       "      <td>1.2</td>\n",
       "      <td>4</td>\n",
       "      <td>10</td>\n",
       "    </tr>\n",
       "    <tr>\n",
       "      <th>2019</th>\n",
       "      <td>New Brunswick</td>\n",
       "      <td>2</td>\n",
       "      <td>Forestry and logging and support activities fo...</td>\n",
       "      <td>0</td>\n",
       "      <td>0</td>\n",
       "      <td>3.5</td>\n",
       "      <td>4</td>\n",
       "      <td>9</td>\n",
       "    </tr>\n",
       "    <tr>\n",
       "      <th>2019</th>\n",
       "      <td>New Brunswick</td>\n",
       "      <td>2</td>\n",
       "      <td>Forestry and logging and support activities fo...</td>\n",
       "      <td>0</td>\n",
       "      <td>1</td>\n",
       "      <td>0.5</td>\n",
       "      <td>4</td>\n",
       "      <td>9</td>\n",
       "    </tr>\n",
       "    <tr>\n",
       "      <th>2019</th>\n",
       "      <td>New Brunswick</td>\n",
       "      <td>2</td>\n",
       "      <td>Forestry and logging and support activities fo...</td>\n",
       "      <td>0</td>\n",
       "      <td>2</td>\n",
       "      <td>1.9</td>\n",
       "      <td>4</td>\n",
       "      <td>9</td>\n",
       "    </tr>\n",
       "    <tr>\n",
       "      <th>2019</th>\n",
       "      <td>New Brunswick</td>\n",
       "      <td>2</td>\n",
       "      <td>Forestry and logging and support activities fo...</td>\n",
       "      <td>0</td>\n",
       "      <td>3</td>\n",
       "      <td>1.1</td>\n",
       "      <td>4</td>\n",
       "      <td>9</td>\n",
       "    </tr>\n",
       "    <tr>\n",
       "      <th>...</th>\n",
       "      <td>...</td>\n",
       "      <td>...</td>\n",
       "      <td>...</td>\n",
       "      <td>...</td>\n",
       "      <td>...</td>\n",
       "      <td>...</td>\n",
       "      <td>...</td>\n",
       "      <td>...</td>\n",
       "    </tr>\n",
       "    <tr>\n",
       "      <th>2019</th>\n",
       "      <td>British Columbia</td>\n",
       "      <td>0</td>\n",
       "      <td>Unclassified industries</td>\n",
       "      <td>1</td>\n",
       "      <td>3</td>\n",
       "      <td>6.0</td>\n",
       "      <td>1</td>\n",
       "      <td>25</td>\n",
       "    </tr>\n",
       "    <tr>\n",
       "      <th>2019</th>\n",
       "      <td>British Columbia</td>\n",
       "      <td>0</td>\n",
       "      <td>Unclassified industries</td>\n",
       "      <td>2</td>\n",
       "      <td>0</td>\n",
       "      <td>25.3</td>\n",
       "      <td>1</td>\n",
       "      <td>25</td>\n",
       "    </tr>\n",
       "    <tr>\n",
       "      <th>2019</th>\n",
       "      <td>British Columbia</td>\n",
       "      <td>0</td>\n",
       "      <td>Unclassified industries</td>\n",
       "      <td>2</td>\n",
       "      <td>1</td>\n",
       "      <td>6.3</td>\n",
       "      <td>1</td>\n",
       "      <td>25</td>\n",
       "    </tr>\n",
       "    <tr>\n",
       "      <th>2019</th>\n",
       "      <td>British Columbia</td>\n",
       "      <td>0</td>\n",
       "      <td>Unclassified industries</td>\n",
       "      <td>2</td>\n",
       "      <td>2</td>\n",
       "      <td>15.4</td>\n",
       "      <td>1</td>\n",
       "      <td>25</td>\n",
       "    </tr>\n",
       "    <tr>\n",
       "      <th>2019</th>\n",
       "      <td>British Columbia</td>\n",
       "      <td>0</td>\n",
       "      <td>Unclassified industries</td>\n",
       "      <td>2</td>\n",
       "      <td>3</td>\n",
       "      <td>3.7</td>\n",
       "      <td>1</td>\n",
       "      <td>25</td>\n",
       "    </tr>\n",
       "  </tbody>\n",
       "</table>\n",
       "<p>8473 rows × 8 columns</p>\n",
       "</div>"
      ],
      "text/plain": [
       "                       GEO  Labour_characteristics  \\\n",
       "REF_DATE                                             \n",
       "2019         New Brunswick                       2   \n",
       "2019         New Brunswick                       2   \n",
       "2019         New Brunswick                       2   \n",
       "2019         New Brunswick                       2   \n",
       "2019         New Brunswick                       2   \n",
       "...                    ...                     ...   \n",
       "2019      British Columbia                       0   \n",
       "2019      British Columbia                       0   \n",
       "2019      British Columbia                       0   \n",
       "2019      British Columbia                       0   \n",
       "2019      British Columbia                       0   \n",
       "\n",
       "                                                      NAICS  Sex  Age group  \\\n",
       "REF_DATE                                                                      \n",
       "2019      Forestry, fishing, mining, quarrying, oil and ...    2          2   \n",
       "2019      Forestry and logging and support activities fo...    0          0   \n",
       "2019      Forestry and logging and support activities fo...    0          1   \n",
       "2019      Forestry and logging and support activities fo...    0          2   \n",
       "2019      Forestry and logging and support activities fo...    0          3   \n",
       "...                                                     ...  ...        ...   \n",
       "2019                                Unclassified industries    1          3   \n",
       "2019                                Unclassified industries    2          0   \n",
       "2019                                Unclassified industries    2          1   \n",
       "2019                                Unclassified industries    2          2   \n",
       "2019                                Unclassified industries    2          3   \n",
       "\n",
       "          VALUE  GEO_Cat  NAICS_Cat  \n",
       "REF_DATE                             \n",
       "2019        1.2        4         10  \n",
       "2019        3.5        4          9  \n",
       "2019        0.5        4          9  \n",
       "2019        1.9        4          9  \n",
       "2019        1.1        4          9  \n",
       "...         ...      ...        ...  \n",
       "2019        6.0        1         25  \n",
       "2019       25.3        1         25  \n",
       "2019        6.3        1         25  \n",
       "2019       15.4        1         25  \n",
       "2019        3.7        1         25  \n",
       "\n",
       "[8473 rows x 8 columns]"
      ]
     },
     "execution_count": 7,
     "metadata": {},
     "output_type": "execute_result"
    }
   ],
   "source": [
    "test = Before_Pandemic1.iloc[33892: , :]\n",
    "\n",
    "test"
   ]
  },
  {
   "cell_type": "code",
   "execution_count": 8,
   "id": "67f3282c",
   "metadata": {},
   "outputs": [
    {
     "data": {
      "text/plain": [
       "GEO                              British Columbia\n",
       "Labour_characteristics                          0\n",
       "NAICS                     Unclassified industries\n",
       "Sex                                             2\n",
       "Age group                                       3\n",
       "VALUE                                         3.7\n",
       "GEO_Cat                                         1\n",
       "NAICS_Cat                                      25\n",
       "Name: 2019, dtype: object"
      ]
     },
     "execution_count": 8,
     "metadata": {},
     "output_type": "execute_result"
    }
   ],
   "source": [
    "Before_Pandemic1.iloc[42364, :]"
   ]
  },
  {
   "cell_type": "code",
   "execution_count": 9,
   "id": "a5dd512b",
   "metadata": {},
   "outputs": [],
   "source": [
    "X_train = train.drop(['GEO','NAICS','VALUE'],axis='columns')\n",
    "y_train = train['VALUE']\n",
    "\n",
    "\n",
    "X_test = test.drop(['GEO','NAICS','VALUE'],axis='columns')\n",
    "y_test = test['VALUE']"
   ]
  },
  {
   "cell_type": "markdown",
   "id": "ca7844e2",
   "metadata": {},
   "source": [
    "#### Linear Regression Model"
   ]
  },
  {
   "cell_type": "code",
   "execution_count": 10,
   "id": "e095f896",
   "metadata": {},
   "outputs": [
    {
     "data": {
      "text/plain": [
       "LinearRegression()"
      ]
     },
     "execution_count": 10,
     "metadata": {},
     "output_type": "execute_result"
    }
   ],
   "source": [
    "regressor = LinearRegression()\n",
    "regressor.fit(X_train, y_train)"
   ]
  },
  {
   "cell_type": "code",
   "execution_count": 11,
   "id": "a069c91f",
   "metadata": {},
   "outputs": [],
   "source": [
    "y_pred = regressor.predict(X_test)"
   ]
  },
  {
   "cell_type": "code",
   "execution_count": 12,
   "id": "633c33ed",
   "metadata": {},
   "outputs": [
    {
     "name": "stdout",
     "output_type": "stream",
     "text": [
      "150.69923044952642\n",
      "110607.6635078934\n",
      "12.275961487782798\n"
     ]
    }
   ],
   "source": [
    "# Print result of MAE\n",
    "print(metrics.mean_absolute_error(y_test, y_pred))\n",
    "\n",
    "# Print result of MSE\n",
    "print(metrics.mean_squared_error(y_test, y_pred))\n",
    "\n",
    "# Print result of RMSE\n",
    "print(np.sqrt(metrics.mean_absolute_error(y_test, y_pred)))"
   ]
  },
  {
   "cell_type": "code",
   "execution_count": 13,
   "id": "a99bef69",
   "metadata": {},
   "outputs": [
    {
     "name": "stdout",
     "output_type": "stream",
     "text": [
      "Accuracy: 87.72 %.\n"
     ]
    }
   ],
   "source": [
    "# Calculate and display accuracy\n",
    "accuracy = 100 - np.sqrt(metrics.mean_absolute_error(y_test, y_pred))\n",
    "print('Accuracy:', round(accuracy, 2), '%.')"
   ]
  },
  {
   "cell_type": "markdown",
   "id": "56bbf3d8",
   "metadata": {},
   "source": [
    "#### Random Forest Regressor Model"
   ]
  },
  {
   "cell_type": "code",
   "execution_count": 14,
   "id": "3ca63b36",
   "metadata": {},
   "outputs": [
    {
     "data": {
      "text/plain": [
       "RandomForestRegressor(n_estimators=1000, random_state=1)"
      ]
     },
     "execution_count": 14,
     "metadata": {},
     "output_type": "execute_result"
    }
   ],
   "source": [
    "# Import the model we are using\n",
    "# Instantiate model with 1000 decision trees\n",
    "rf = RandomForestRegressor(n_estimators = 1000, random_state = 1)\n",
    "\n",
    "# Train the model on training data\n",
    "rf.fit(X_train, y_train)"
   ]
  },
  {
   "cell_type": "code",
   "execution_count": 15,
   "id": "59ab856f",
   "metadata": {},
   "outputs": [],
   "source": [
    "y_pred2 = rf.predict(X_test)"
   ]
  },
  {
   "cell_type": "code",
   "execution_count": 16,
   "id": "f268f5fb",
   "metadata": {},
   "outputs": [
    {
     "name": "stdout",
     "output_type": "stream",
     "text": [
      "4.535162139491047\n",
      "261.9812792096701\n",
      "2.1295920124500483\n"
     ]
    }
   ],
   "source": [
    "# Print result of MAE\n",
    "print(metrics.mean_absolute_error(y_test, y_pred2))\n",
    "\n",
    "# Print result of MSE\n",
    "print(metrics.mean_squared_error(y_test, y_pred2))\n",
    "\n",
    "# Print result of RMSE\n",
    "print(np.sqrt(metrics.mean_absolute_error(y_test, y_pred2)))"
   ]
  },
  {
   "cell_type": "code",
   "execution_count": 17,
   "id": "70ea0763",
   "metadata": {},
   "outputs": [
    {
     "name": "stdout",
     "output_type": "stream",
     "text": [
      "Accuracy: 97.87 %.\n"
     ]
    }
   ],
   "source": [
    "# Calculate and display accuracy\n",
    "accuracy = 100 - np.sqrt(metrics.mean_absolute_error(y_test, y_pred2))\n",
    "print('Accuracy:', round(accuracy, 2), '%.')"
   ]
  },
  {
   "cell_type": "code",
   "execution_count": 18,
   "id": "745c905d",
   "metadata": {},
   "outputs": [
    {
     "data": {
      "image/png": "[encoded data removed]",
      "text/plain": [
       "<Figure size 432x288 with 1 Axes>"
      ]
     },
     "metadata": {
      "needs_background": "light"
     },
     "output_type": "display_data"
    }
   ],
   "source": [
    "# Calculating Feature importance\n",
    "\n",
    "I = importances(rf, X_train, y_train)\n",
    "I.plot(kind = 'bar')\n",
    "plt.show()"
   ]
  },
  {
   "cell_type": "markdown",
   "id": "34fe2f48",
   "metadata": {},
   "source": [
    "- As, we can see that 'GEO_Cat' and 'NAICS_Cat' features have higher importance compare to other features. So, we will take only those two features in our prediction models to check the accuracy."
   ]
  },
  {
   "cell_type": "code",
   "execution_count": 19,
   "id": "d938f7a3",
   "metadata": {},
   "outputs": [],
   "source": [
    "X_train2 = train.drop(['GEO','NAICS','Labour_characteristics','VALUE', 'Sex', 'Age group'],axis='columns')\n",
    "y_train2 = train['VALUE']\n",
    "\n",
    "\n",
    "X_test2 = test.drop(['GEO','NAICS','Labour_characteristics','VALUE', 'Sex', 'Age group'],axis='columns')\n",
    "y_test2 = test['VALUE']"
   ]
  },
  {
   "cell_type": "markdown",
   "id": "1f75b40b",
   "metadata": {},
   "source": [
    "#### Linear Regression with important features"
   ]
  },
  {
   "cell_type": "code",
   "execution_count": 20,
   "id": "14dbe115",
   "metadata": {},
   "outputs": [
    {
     "data": {
      "text/plain": [
       "LinearRegression()"
      ]
     },
     "execution_count": 20,
     "metadata": {},
     "output_type": "execute_result"
    }
   ],
   "source": [
    "regressor = LinearRegression()\n",
    "regressor.fit(X_train2, y_train2)"
   ]
  },
  {
   "cell_type": "code",
   "execution_count": 21,
   "id": "5f250f3c",
   "metadata": {},
   "outputs": [],
   "source": [
    "y_pred4 = regressor.predict(X_test2)"
   ]
  },
  {
   "cell_type": "code",
   "execution_count": 22,
   "id": "41f6ec34",
   "metadata": {},
   "outputs": [
    {
     "name": "stdout",
     "output_type": "stream",
     "text": [
      "148.10412983397515\n",
      "111917.77727385999\n",
      "12.169804017895077\n"
     ]
    }
   ],
   "source": [
    "# Print result of MAE\n",
    "print(metrics.mean_absolute_error(y_test2, y_pred4))\n",
    "\n",
    "# Print result of MSE\n",
    "print(metrics.mean_squared_error(y_test2, y_pred4))\n",
    "\n",
    "# Print result of RMSE\n",
    "print(np.sqrt(metrics.mean_absolute_error(y_test2, y_pred4)))"
   ]
  },
  {
   "cell_type": "code",
   "execution_count": 23,
   "id": "274bde10",
   "metadata": {},
   "outputs": [
    {
     "name": "stdout",
     "output_type": "stream",
     "text": [
      "Accuracy: 87.83 %.\n"
     ]
    }
   ],
   "source": [
    "# Calculate and display accuracy\n",
    "accuracy = 100 - np.sqrt(metrics.mean_absolute_error(y_test2, y_pred4))\n",
    "print('Accuracy:', round(accuracy, 2), '%.')"
   ]
  },
  {
   "cell_type": "markdown",
   "id": "7545d475",
   "metadata": {},
   "source": [
    "#### Random Forest Regressor with important features"
   ]
  },
  {
   "cell_type": "code",
   "execution_count": 24,
   "id": "c5902359",
   "metadata": {},
   "outputs": [
    {
     "data": {
      "text/plain": [
       "RandomForestRegressor(n_estimators=1000, random_state=1)"
      ]
     },
     "execution_count": 24,
     "metadata": {},
     "output_type": "execute_result"
    }
   ],
   "source": [
    "# Instantiate model with 1000 decision trees\n",
    "rf4 = RandomForestRegressor(n_estimators = 1000, random_state = 1)\n",
    "# Train the model on training data\n",
    "rf4.fit(X_train2, y_train2)"
   ]
  },
  {
   "cell_type": "code",
   "execution_count": 25,
   "id": "72041c2b",
   "metadata": {},
   "outputs": [],
   "source": [
    "y_pred7 = rf4.predict(X_test2)"
   ]
  },
  {
   "cell_type": "code",
   "execution_count": 26,
   "id": "6b67940c",
   "metadata": {},
   "outputs": [
    {
     "name": "stdout",
     "output_type": "stream",
     "text": [
      "80.85455649652626\n",
      "67714.79320243589\n",
      "8.99191617490545\n"
     ]
    }
   ],
   "source": [
    "# Print result of MAE\n",
    "print(metrics.mean_absolute_error(y_test2, y_pred7))\n",
    "\n",
    "# Print result of MSE\n",
    "print(metrics.mean_squared_error(y_test2, y_pred7))\n",
    "\n",
    "# Print result of RMSE\n",
    "print(np.sqrt(metrics.mean_absolute_error(y_test2, y_pred7)))"
   ]
  },
  {
   "cell_type": "code",
   "execution_count": 27,
   "id": "4ee1b5b0",
   "metadata": {},
   "outputs": [
    {
     "name": "stdout",
     "output_type": "stream",
     "text": [
      "Accuracy: 91.01 %.\n"
     ]
    }
   ],
   "source": [
    "# Calculate and display accuracy\n",
    "accuracy = 100 - np.sqrt(metrics.mean_absolute_error(y_test2, y_pred7))\n",
    "print('Accuracy:', round(accuracy, 2), '%.')"
   ]
  },
  {
   "cell_type": "markdown",
   "id": "97b03877",
   "metadata": {},
   "source": [
    "### Prediction on 'During_Pandemic' data"
   ]
  },
  {
   "cell_type": "code",
   "execution_count": 28,
   "id": "d634ebff",
   "metadata": {},
   "outputs": [
    {
     "data": {
      "text/html": [
       "<div>\n",
       "<style scoped>\n",
       "    .dataframe tbody tr th:only-of-type {\n",
       "        vertical-align: middle;\n",
       "    }\n",
       "\n",
       "    .dataframe tbody tr th {\n",
       "        vertical-align: top;\n",
       "    }\n",
       "\n",
       "    .dataframe thead th {\n",
       "        text-align: right;\n",
       "    }\n",
       "</style>\n",
       "<table border=\"1\" class=\"dataframe\">\n",
       "  <thead>\n",
       "    <tr style=\"text-align: right;\">\n",
       "      <th></th>\n",
       "      <th>GEO</th>\n",
       "      <th>Labour_characteristics</th>\n",
       "      <th>NAICS</th>\n",
       "      <th>Sex</th>\n",
       "      <th>Age group</th>\n",
       "      <th>VALUE</th>\n",
       "      <th>GEO_Cat</th>\n",
       "      <th>NAICS_Cat</th>\n",
       "    </tr>\n",
       "    <tr>\n",
       "      <th>REF_DATE</th>\n",
       "      <th></th>\n",
       "      <th></th>\n",
       "      <th></th>\n",
       "      <th></th>\n",
       "      <th></th>\n",
       "      <th></th>\n",
       "      <th></th>\n",
       "      <th></th>\n",
       "    </tr>\n",
       "  </thead>\n",
       "  <tbody>\n",
       "    <tr>\n",
       "      <th>2020</th>\n",
       "      <td>Canada</td>\n",
       "      <td>3</td>\n",
       "      <td>Total, all industries</td>\n",
       "      <td>0</td>\n",
       "      <td>0</td>\n",
       "      <td>19896.6</td>\n",
       "      <td>2</td>\n",
       "      <td>23</td>\n",
       "    </tr>\n",
       "    <tr>\n",
       "      <th>2020</th>\n",
       "      <td>Canada</td>\n",
       "      <td>3</td>\n",
       "      <td>Total, all industries</td>\n",
       "      <td>0</td>\n",
       "      <td>1</td>\n",
       "      <td>2775.5</td>\n",
       "      <td>2</td>\n",
       "      <td>23</td>\n",
       "    </tr>\n",
       "    <tr>\n",
       "      <th>2020</th>\n",
       "      <td>Canada</td>\n",
       "      <td>3</td>\n",
       "      <td>Total, all industries</td>\n",
       "      <td>0</td>\n",
       "      <td>2</td>\n",
       "      <td>12807.8</td>\n",
       "      <td>2</td>\n",
       "      <td>23</td>\n",
       "    </tr>\n",
       "    <tr>\n",
       "      <th>2020</th>\n",
       "      <td>Canada</td>\n",
       "      <td>3</td>\n",
       "      <td>Total, all industries</td>\n",
       "      <td>0</td>\n",
       "      <td>3</td>\n",
       "      <td>4313.3</td>\n",
       "      <td>2</td>\n",
       "      <td>23</td>\n",
       "    </tr>\n",
       "    <tr>\n",
       "      <th>2020</th>\n",
       "      <td>Canada</td>\n",
       "      <td>3</td>\n",
       "      <td>Total, all industries</td>\n",
       "      <td>1</td>\n",
       "      <td>0</td>\n",
       "      <td>10534.8</td>\n",
       "      <td>2</td>\n",
       "      <td>23</td>\n",
       "    </tr>\n",
       "    <tr>\n",
       "      <th>...</th>\n",
       "      <td>...</td>\n",
       "      <td>...</td>\n",
       "      <td>...</td>\n",
       "      <td>...</td>\n",
       "      <td>...</td>\n",
       "      <td>...</td>\n",
       "      <td>...</td>\n",
       "      <td>...</td>\n",
       "    </tr>\n",
       "    <tr>\n",
       "      <th>2021</th>\n",
       "      <td>British Columbia</td>\n",
       "      <td>0</td>\n",
       "      <td>Unclassified industries</td>\n",
       "      <td>1</td>\n",
       "      <td>3</td>\n",
       "      <td>10.9</td>\n",
       "      <td>1</td>\n",
       "      <td>25</td>\n",
       "    </tr>\n",
       "    <tr>\n",
       "      <th>2021</th>\n",
       "      <td>British Columbia</td>\n",
       "      <td>0</td>\n",
       "      <td>Unclassified industries</td>\n",
       "      <td>2</td>\n",
       "      <td>0</td>\n",
       "      <td>43.5</td>\n",
       "      <td>1</td>\n",
       "      <td>25</td>\n",
       "    </tr>\n",
       "    <tr>\n",
       "      <th>2021</th>\n",
       "      <td>British Columbia</td>\n",
       "      <td>0</td>\n",
       "      <td>Unclassified industries</td>\n",
       "      <td>2</td>\n",
       "      <td>1</td>\n",
       "      <td>11.9</td>\n",
       "      <td>1</td>\n",
       "      <td>25</td>\n",
       "    </tr>\n",
       "    <tr>\n",
       "      <th>2021</th>\n",
       "      <td>British Columbia</td>\n",
       "      <td>0</td>\n",
       "      <td>Unclassified industries</td>\n",
       "      <td>2</td>\n",
       "      <td>2</td>\n",
       "      <td>20.5</td>\n",
       "      <td>1</td>\n",
       "      <td>25</td>\n",
       "    </tr>\n",
       "    <tr>\n",
       "      <th>2021</th>\n",
       "      <td>British Columbia</td>\n",
       "      <td>0</td>\n",
       "      <td>Unclassified industries</td>\n",
       "      <td>2</td>\n",
       "      <td>3</td>\n",
       "      <td>11.1</td>\n",
       "      <td>1</td>\n",
       "      <td>25</td>\n",
       "    </tr>\n",
       "  </tbody>\n",
       "</table>\n",
       "<p>28624 rows × 8 columns</p>\n",
       "</div>"
      ],
      "text/plain": [
       "                       GEO  Labour_characteristics                    NAICS  \\\n",
       "REF_DATE                                                                      \n",
       "2020                Canada                       3    Total, all industries   \n",
       "2020                Canada                       3    Total, all industries   \n",
       "2020                Canada                       3    Total, all industries   \n",
       "2020                Canada                       3    Total, all industries   \n",
       "2020                Canada                       3    Total, all industries   \n",
       "...                    ...                     ...                      ...   \n",
       "2021      British Columbia                       0  Unclassified industries   \n",
       "2021      British Columbia                       0  Unclassified industries   \n",
       "2021      British Columbia                       0  Unclassified industries   \n",
       "2021      British Columbia                       0  Unclassified industries   \n",
       "2021      British Columbia                       0  Unclassified industries   \n",
       "\n",
       "          Sex  Age group    VALUE  GEO_Cat  NAICS_Cat  \n",
       "REF_DATE                                               \n",
       "2020        0          0  19896.6        2         23  \n",
       "2020        0          1   2775.5        2         23  \n",
       "2020        0          2  12807.8        2         23  \n",
       "2020        0          3   4313.3        2         23  \n",
       "2020        1          0  10534.8        2         23  \n",
       "...       ...        ...      ...      ...        ...  \n",
       "2021        1          3     10.9        1         25  \n",
       "2021        2          0     43.5        1         25  \n",
       "2021        2          1     11.9        1         25  \n",
       "2021        2          2     20.5        1         25  \n",
       "2021        2          3     11.1        1         25  \n",
       "\n",
       "[28624 rows x 8 columns]"
      ]
     },
     "execution_count": 28,
     "metadata": {},
     "output_type": "execute_result"
    }
   ],
   "source": [
    "During_Pandemic1"
   ]
  },
  {
   "cell_type": "code",
   "execution_count": 29,
   "id": "3aae5593",
   "metadata": {},
   "outputs": [
    {
     "data": {
      "text/plain": [
       "22899"
      ]
     },
     "execution_count": 29,
     "metadata": {},
     "output_type": "execute_result"
    }
   ],
   "source": [
    "# Dividing data manually in train and test with 80-20 ratio\n",
    "\n",
    "Percentage1=round(len(During_Pandemic1)/100*80)\n",
    "\n",
    "Percentage1"
   ]
  },
  {
   "cell_type": "code",
   "execution_count": 30,
   "id": "32c4337f",
   "metadata": {},
   "outputs": [
    {
     "data": {
      "text/html": [
       "<div>\n",
       "<style scoped>\n",
       "    .dataframe tbody tr th:only-of-type {\n",
       "        vertical-align: middle;\n",
       "    }\n",
       "\n",
       "    .dataframe tbody tr th {\n",
       "        vertical-align: top;\n",
       "    }\n",
       "\n",
       "    .dataframe thead th {\n",
       "        text-align: right;\n",
       "    }\n",
       "</style>\n",
       "<table border=\"1\" class=\"dataframe\">\n",
       "  <thead>\n",
       "    <tr style=\"text-align: right;\">\n",
       "      <th></th>\n",
       "      <th>GEO</th>\n",
       "      <th>Labour_characteristics</th>\n",
       "      <th>NAICS</th>\n",
       "      <th>Sex</th>\n",
       "      <th>Age group</th>\n",
       "      <th>VALUE</th>\n",
       "      <th>GEO_Cat</th>\n",
       "      <th>NAICS_Cat</th>\n",
       "    </tr>\n",
       "    <tr>\n",
       "      <th>REF_DATE</th>\n",
       "      <th></th>\n",
       "      <th></th>\n",
       "      <th></th>\n",
       "      <th></th>\n",
       "      <th></th>\n",
       "      <th></th>\n",
       "      <th></th>\n",
       "      <th></th>\n",
       "    </tr>\n",
       "  </thead>\n",
       "  <tbody>\n",
       "    <tr>\n",
       "      <th>2020</th>\n",
       "      <td>Canada</td>\n",
       "      <td>3</td>\n",
       "      <td>Total, all industries</td>\n",
       "      <td>0</td>\n",
       "      <td>0</td>\n",
       "      <td>19896.6</td>\n",
       "      <td>2</td>\n",
       "      <td>23</td>\n",
       "    </tr>\n",
       "    <tr>\n",
       "      <th>2020</th>\n",
       "      <td>Canada</td>\n",
       "      <td>3</td>\n",
       "      <td>Total, all industries</td>\n",
       "      <td>0</td>\n",
       "      <td>1</td>\n",
       "      <td>2775.5</td>\n",
       "      <td>2</td>\n",
       "      <td>23</td>\n",
       "    </tr>\n",
       "    <tr>\n",
       "      <th>2020</th>\n",
       "      <td>Canada</td>\n",
       "      <td>3</td>\n",
       "      <td>Total, all industries</td>\n",
       "      <td>0</td>\n",
       "      <td>2</td>\n",
       "      <td>12807.8</td>\n",
       "      <td>2</td>\n",
       "      <td>23</td>\n",
       "    </tr>\n",
       "    <tr>\n",
       "      <th>2020</th>\n",
       "      <td>Canada</td>\n",
       "      <td>3</td>\n",
       "      <td>Total, all industries</td>\n",
       "      <td>0</td>\n",
       "      <td>3</td>\n",
       "      <td>4313.3</td>\n",
       "      <td>2</td>\n",
       "      <td>23</td>\n",
       "    </tr>\n",
       "    <tr>\n",
       "      <th>2020</th>\n",
       "      <td>Canada</td>\n",
       "      <td>3</td>\n",
       "      <td>Total, all industries</td>\n",
       "      <td>1</td>\n",
       "      <td>0</td>\n",
       "      <td>10534.8</td>\n",
       "      <td>2</td>\n",
       "      <td>23</td>\n",
       "    </tr>\n",
       "    <tr>\n",
       "      <th>...</th>\n",
       "      <td>...</td>\n",
       "      <td>...</td>\n",
       "      <td>...</td>\n",
       "      <td>...</td>\n",
       "      <td>...</td>\n",
       "      <td>...</td>\n",
       "      <td>...</td>\n",
       "      <td>...</td>\n",
       "    </tr>\n",
       "    <tr>\n",
       "      <th>2021</th>\n",
       "      <td>Ontario</td>\n",
       "      <td>2</td>\n",
       "      <td>Finance and insurance [52]</td>\n",
       "      <td>1</td>\n",
       "      <td>2</td>\n",
       "      <td>167.6</td>\n",
       "      <td>7</td>\n",
       "      <td>6</td>\n",
       "    </tr>\n",
       "    <tr>\n",
       "      <th>2021</th>\n",
       "      <td>Ontario</td>\n",
       "      <td>2</td>\n",
       "      <td>Finance and insurance [52]</td>\n",
       "      <td>1</td>\n",
       "      <td>3</td>\n",
       "      <td>35.4</td>\n",
       "      <td>7</td>\n",
       "      <td>6</td>\n",
       "    </tr>\n",
       "    <tr>\n",
       "      <th>2021</th>\n",
       "      <td>Ontario</td>\n",
       "      <td>2</td>\n",
       "      <td>Finance and insurance [52]</td>\n",
       "      <td>2</td>\n",
       "      <td>0</td>\n",
       "      <td>221.9</td>\n",
       "      <td>7</td>\n",
       "      <td>6</td>\n",
       "    </tr>\n",
       "    <tr>\n",
       "      <th>2021</th>\n",
       "      <td>Ontario</td>\n",
       "      <td>2</td>\n",
       "      <td>Finance and insurance [52]</td>\n",
       "      <td>2</td>\n",
       "      <td>1</td>\n",
       "      <td>10.7</td>\n",
       "      <td>7</td>\n",
       "      <td>6</td>\n",
       "    </tr>\n",
       "    <tr>\n",
       "      <th>2021</th>\n",
       "      <td>Ontario</td>\n",
       "      <td>2</td>\n",
       "      <td>Finance and insurance [52]</td>\n",
       "      <td>2</td>\n",
       "      <td>2</td>\n",
       "      <td>170.9</td>\n",
       "      <td>7</td>\n",
       "      <td>6</td>\n",
       "    </tr>\n",
       "  </tbody>\n",
       "</table>\n",
       "<p>22899 rows × 8 columns</p>\n",
       "</div>"
      ],
      "text/plain": [
       "              GEO  Labour_characteristics                       NAICS  Sex  \\\n",
       "REF_DATE                                                                     \n",
       "2020       Canada                       3       Total, all industries    0   \n",
       "2020       Canada                       3       Total, all industries    0   \n",
       "2020       Canada                       3       Total, all industries    0   \n",
       "2020       Canada                       3       Total, all industries    0   \n",
       "2020       Canada                       3       Total, all industries    1   \n",
       "...           ...                     ...                         ...  ...   \n",
       "2021      Ontario                       2  Finance and insurance [52]    1   \n",
       "2021      Ontario                       2  Finance and insurance [52]    1   \n",
       "2021      Ontario                       2  Finance and insurance [52]    2   \n",
       "2021      Ontario                       2  Finance and insurance [52]    2   \n",
       "2021      Ontario                       2  Finance and insurance [52]    2   \n",
       "\n",
       "          Age group    VALUE  GEO_Cat  NAICS_Cat  \n",
       "REF_DATE                                          \n",
       "2020              0  19896.6        2         23  \n",
       "2020              1   2775.5        2         23  \n",
       "2020              2  12807.8        2         23  \n",
       "2020              3   4313.3        2         23  \n",
       "2020              0  10534.8        2         23  \n",
       "...             ...      ...      ...        ...  \n",
       "2021              2    167.6        7          6  \n",
       "2021              3     35.4        7          6  \n",
       "2021              0    221.9        7          6  \n",
       "2021              1     10.7        7          6  \n",
       "2021              2    170.9        7          6  \n",
       "\n",
       "[22899 rows x 8 columns]"
      ]
     },
     "execution_count": 30,
     "metadata": {},
     "output_type": "execute_result"
    }
   ],
   "source": [
    "train1 = During_Pandemic1.head(Percentage1)\n",
    "\n",
    "train1"
   ]
  },
  {
   "cell_type": "code",
   "execution_count": 31,
   "id": "30c71d72",
   "metadata": {},
   "outputs": [
    {
     "data": {
      "text/plain": [
       "GEO                                          Ontario\n",
       "Labour_characteristics                             2\n",
       "NAICS                     Finance and insurance [52]\n",
       "Sex                                                2\n",
       "Age group                                          2\n",
       "VALUE                                          170.9\n",
       "GEO_Cat                                            7\n",
       "NAICS_Cat                                          6\n",
       "Name: 2021, dtype: object"
      ]
     },
     "execution_count": 31,
     "metadata": {},
     "output_type": "execute_result"
    }
   ],
   "source": [
    "During_Pandemic1.iloc[22898, :]"
   ]
  },
  {
   "cell_type": "code",
   "execution_count": 32,
   "id": "ce71e786",
   "metadata": {},
   "outputs": [
    {
     "data": {
      "text/html": [
       "<div>\n",
       "<style scoped>\n",
       "    .dataframe tbody tr th:only-of-type {\n",
       "        vertical-align: middle;\n",
       "    }\n",
       "\n",
       "    .dataframe tbody tr th {\n",
       "        vertical-align: top;\n",
       "    }\n",
       "\n",
       "    .dataframe thead th {\n",
       "        text-align: right;\n",
       "    }\n",
       "</style>\n",
       "<table border=\"1\" class=\"dataframe\">\n",
       "  <thead>\n",
       "    <tr style=\"text-align: right;\">\n",
       "      <th></th>\n",
       "      <th>GEO</th>\n",
       "      <th>Labour_characteristics</th>\n",
       "      <th>NAICS</th>\n",
       "      <th>Sex</th>\n",
       "      <th>Age group</th>\n",
       "      <th>VALUE</th>\n",
       "      <th>GEO_Cat</th>\n",
       "      <th>NAICS_Cat</th>\n",
       "    </tr>\n",
       "    <tr>\n",
       "      <th>REF_DATE</th>\n",
       "      <th></th>\n",
       "      <th></th>\n",
       "      <th></th>\n",
       "      <th></th>\n",
       "      <th></th>\n",
       "      <th></th>\n",
       "      <th></th>\n",
       "      <th></th>\n",
       "    </tr>\n",
       "  </thead>\n",
       "  <tbody>\n",
       "    <tr>\n",
       "      <th>2021</th>\n",
       "      <td>Ontario</td>\n",
       "      <td>2</td>\n",
       "      <td>Finance and insurance [52]</td>\n",
       "      <td>2</td>\n",
       "      <td>3</td>\n",
       "      <td>40.2</td>\n",
       "      <td>7</td>\n",
       "      <td>6</td>\n",
       "    </tr>\n",
       "    <tr>\n",
       "      <th>2021</th>\n",
       "      <td>Ontario</td>\n",
       "      <td>2</td>\n",
       "      <td>Real estate and rental and leasing [53]</td>\n",
       "      <td>0</td>\n",
       "      <td>0</td>\n",
       "      <td>133.9</td>\n",
       "      <td>7</td>\n",
       "      <td>20</td>\n",
       "    </tr>\n",
       "    <tr>\n",
       "      <th>2021</th>\n",
       "      <td>Ontario</td>\n",
       "      <td>2</td>\n",
       "      <td>Real estate and rental and leasing [53]</td>\n",
       "      <td>0</td>\n",
       "      <td>1</td>\n",
       "      <td>4.3</td>\n",
       "      <td>7</td>\n",
       "      <td>20</td>\n",
       "    </tr>\n",
       "    <tr>\n",
       "      <th>2021</th>\n",
       "      <td>Ontario</td>\n",
       "      <td>2</td>\n",
       "      <td>Real estate and rental and leasing [53]</td>\n",
       "      <td>0</td>\n",
       "      <td>2</td>\n",
       "      <td>89.8</td>\n",
       "      <td>7</td>\n",
       "      <td>20</td>\n",
       "    </tr>\n",
       "    <tr>\n",
       "      <th>2021</th>\n",
       "      <td>Ontario</td>\n",
       "      <td>2</td>\n",
       "      <td>Real estate and rental and leasing [53]</td>\n",
       "      <td>0</td>\n",
       "      <td>3</td>\n",
       "      <td>39.8</td>\n",
       "      <td>7</td>\n",
       "      <td>20</td>\n",
       "    </tr>\n",
       "    <tr>\n",
       "      <th>...</th>\n",
       "      <td>...</td>\n",
       "      <td>...</td>\n",
       "      <td>...</td>\n",
       "      <td>...</td>\n",
       "      <td>...</td>\n",
       "      <td>...</td>\n",
       "      <td>...</td>\n",
       "      <td>...</td>\n",
       "    </tr>\n",
       "    <tr>\n",
       "      <th>2021</th>\n",
       "      <td>British Columbia</td>\n",
       "      <td>0</td>\n",
       "      <td>Unclassified industries</td>\n",
       "      <td>1</td>\n",
       "      <td>3</td>\n",
       "      <td>10.9</td>\n",
       "      <td>1</td>\n",
       "      <td>25</td>\n",
       "    </tr>\n",
       "    <tr>\n",
       "      <th>2021</th>\n",
       "      <td>British Columbia</td>\n",
       "      <td>0</td>\n",
       "      <td>Unclassified industries</td>\n",
       "      <td>2</td>\n",
       "      <td>0</td>\n",
       "      <td>43.5</td>\n",
       "      <td>1</td>\n",
       "      <td>25</td>\n",
       "    </tr>\n",
       "    <tr>\n",
       "      <th>2021</th>\n",
       "      <td>British Columbia</td>\n",
       "      <td>0</td>\n",
       "      <td>Unclassified industries</td>\n",
       "      <td>2</td>\n",
       "      <td>1</td>\n",
       "      <td>11.9</td>\n",
       "      <td>1</td>\n",
       "      <td>25</td>\n",
       "    </tr>\n",
       "    <tr>\n",
       "      <th>2021</th>\n",
       "      <td>British Columbia</td>\n",
       "      <td>0</td>\n",
       "      <td>Unclassified industries</td>\n",
       "      <td>2</td>\n",
       "      <td>2</td>\n",
       "      <td>20.5</td>\n",
       "      <td>1</td>\n",
       "      <td>25</td>\n",
       "    </tr>\n",
       "    <tr>\n",
       "      <th>2021</th>\n",
       "      <td>British Columbia</td>\n",
       "      <td>0</td>\n",
       "      <td>Unclassified industries</td>\n",
       "      <td>2</td>\n",
       "      <td>3</td>\n",
       "      <td>11.1</td>\n",
       "      <td>1</td>\n",
       "      <td>25</td>\n",
       "    </tr>\n",
       "  </tbody>\n",
       "</table>\n",
       "<p>5725 rows × 8 columns</p>\n",
       "</div>"
      ],
      "text/plain": [
       "                       GEO  Labour_characteristics  \\\n",
       "REF_DATE                                             \n",
       "2021               Ontario                       2   \n",
       "2021               Ontario                       2   \n",
       "2021               Ontario                       2   \n",
       "2021               Ontario                       2   \n",
       "2021               Ontario                       2   \n",
       "...                    ...                     ...   \n",
       "2021      British Columbia                       0   \n",
       "2021      British Columbia                       0   \n",
       "2021      British Columbia                       0   \n",
       "2021      British Columbia                       0   \n",
       "2021      British Columbia                       0   \n",
       "\n",
       "                                            NAICS  Sex  Age group  VALUE  \\\n",
       "REF_DATE                                                                   \n",
       "2021                   Finance and insurance [52]    2          3   40.2   \n",
       "2021      Real estate and rental and leasing [53]    0          0  133.9   \n",
       "2021      Real estate and rental and leasing [53]    0          1    4.3   \n",
       "2021      Real estate and rental and leasing [53]    0          2   89.8   \n",
       "2021      Real estate and rental and leasing [53]    0          3   39.8   \n",
       "...                                           ...  ...        ...    ...   \n",
       "2021                      Unclassified industries    1          3   10.9   \n",
       "2021                      Unclassified industries    2          0   43.5   \n",
       "2021                      Unclassified industries    2          1   11.9   \n",
       "2021                      Unclassified industries    2          2   20.5   \n",
       "2021                      Unclassified industries    2          3   11.1   \n",
       "\n",
       "          GEO_Cat  NAICS_Cat  \n",
       "REF_DATE                      \n",
       "2021            7          6  \n",
       "2021            7         20  \n",
       "2021            7         20  \n",
       "2021            7         20  \n",
       "2021            7         20  \n",
       "...           ...        ...  \n",
       "2021            1         25  \n",
       "2021            1         25  \n",
       "2021            1         25  \n",
       "2021            1         25  \n",
       "2021            1         25  \n",
       "\n",
       "[5725 rows x 8 columns]"
      ]
     },
     "execution_count": 32,
     "metadata": {},
     "output_type": "execute_result"
    }
   ],
   "source": [
    "test1 = During_Pandemic1.iloc[22899: , :]\n",
    "\n",
    "test1"
   ]
  },
  {
   "cell_type": "code",
   "execution_count": 33,
   "id": "1cb02429",
   "metadata": {},
   "outputs": [
    {
     "data": {
      "text/plain": [
       "GEO                              British Columbia\n",
       "Labour_characteristics                          0\n",
       "NAICS                     Unclassified industries\n",
       "Sex                                             2\n",
       "Age group                                       3\n",
       "VALUE                                        11.1\n",
       "GEO_Cat                                         1\n",
       "NAICS_Cat                                      25\n",
       "Name: 2021, dtype: object"
      ]
     },
     "execution_count": 33,
     "metadata": {},
     "output_type": "execute_result"
    }
   ],
   "source": [
    "During_Pandemic1.iloc[28623, :]"
   ]
  },
  {
   "cell_type": "code",
   "execution_count": 34,
   "id": "84320e47",
   "metadata": {},
   "outputs": [],
   "source": [
    "X_train1 = train1.drop(['GEO','NAICS','VALUE'],axis='columns')\n",
    "y_train1 = train1['VALUE']\n",
    "\n",
    "\n",
    "X_test1 = test1.drop(['GEO','NAICS','VALUE'],axis='columns')\n",
    "y_test1 = test1['VALUE']"
   ]
  },
  {
   "cell_type": "markdown",
   "id": "719d1af7",
   "metadata": {},
   "source": [
    "#### Linear Regression Model"
   ]
  },
  {
   "cell_type": "code",
   "execution_count": 35,
   "id": "989d1774",
   "metadata": {},
   "outputs": [
    {
     "data": {
      "text/plain": [
       "LinearRegression()"
      ]
     },
     "execution_count": 35,
     "metadata": {},
     "output_type": "execute_result"
    }
   ],
   "source": [
    "regressor1 = LinearRegression()\n",
    "regressor1.fit(X_train1, y_train1)"
   ]
  },
  {
   "cell_type": "code",
   "execution_count": 36,
   "id": "854739d1",
   "metadata": {},
   "outputs": [],
   "source": [
    "y_pred1 = regressor1.predict(X_test1)"
   ]
  },
  {
   "cell_type": "code",
   "execution_count": 37,
   "id": "845168a4",
   "metadata": {},
   "outputs": [
    {
     "name": "stdout",
     "output_type": "stream",
     "text": [
      "142.0060801921158\n",
      "37706.03385049315\n",
      "11.916630404276026\n"
     ]
    }
   ],
   "source": [
    "# Print result of MAE\n",
    "print(metrics.mean_absolute_error(y_test1, y_pred1))\n",
    "\n",
    "# Print result of MSE\n",
    "print(metrics.mean_squared_error(y_test1, y_pred1))\n",
    "\n",
    "# Print result of RMSE\n",
    "print(np.sqrt(metrics.mean_absolute_error(y_test1, y_pred1)))"
   ]
  },
  {
   "cell_type": "code",
   "execution_count": 38,
   "id": "66ec8188",
   "metadata": {},
   "outputs": [
    {
     "name": "stdout",
     "output_type": "stream",
     "text": [
      "Accuracy: 88.08 %.\n"
     ]
    }
   ],
   "source": [
    "# Calculate and display accuracy\n",
    "accuracy = 100 - np.sqrt(metrics.mean_absolute_error(y_test1, y_pred1))\n",
    "print('Accuracy:', round(accuracy, 2), '%.')"
   ]
  },
  {
   "cell_type": "markdown",
   "id": "29a47691",
   "metadata": {},
   "source": [
    "#### Random Forest Regressor Model"
   ]
  },
  {
   "cell_type": "code",
   "execution_count": 39,
   "id": "6955aa0d",
   "metadata": {},
   "outputs": [
    {
     "data": {
      "text/plain": [
       "RandomForestRegressor(n_estimators=1000, random_state=1)"
      ]
     },
     "execution_count": 39,
     "metadata": {},
     "output_type": "execute_result"
    }
   ],
   "source": [
    "# Instantiate model with 1000 decision trees\n",
    "rf1 = RandomForestRegressor(n_estimators = 1000, random_state = 1)\n",
    "# Train the model on training data\n",
    "rf1.fit(X_train1, y_train1)"
   ]
  },
  {
   "cell_type": "code",
   "execution_count": 40,
   "id": "699d9ab1",
   "metadata": {},
   "outputs": [],
   "source": [
    "y_pred3 = rf1.predict(X_test1)"
   ]
  },
  {
   "cell_type": "code",
   "execution_count": 41,
   "id": "26ed4e84",
   "metadata": {},
   "outputs": [
    {
     "name": "stdout",
     "output_type": "stream",
     "text": [
      "7.129296648469087\n",
      "1050.3324954594175\n",
      "2.67007427770635\n"
     ]
    }
   ],
   "source": [
    "# Print result of MAE\n",
    "print(metrics.mean_absolute_error(y_test1, y_pred3))\n",
    "\n",
    "# Print result of MSE\n",
    "print(metrics.mean_squared_error(y_test1, y_pred3))\n",
    "\n",
    "# Print result of RMSE\n",
    "print(np.sqrt(metrics.mean_absolute_error(y_test1, y_pred3)))"
   ]
  },
  {
   "cell_type": "code",
   "execution_count": 42,
   "id": "1283de63",
   "metadata": {},
   "outputs": [
    {
     "name": "stdout",
     "output_type": "stream",
     "text": [
      "Accuracy: 97.33 %.\n"
     ]
    }
   ],
   "source": [
    "# Calculate and display accuracy\n",
    "accuracy = 100 - np.sqrt(metrics.mean_absolute_error(y_test1, y_pred3))\n",
    "print('Accuracy:', round(accuracy, 2), '%.')"
   ]
  },
  {
   "cell_type": "code",
   "execution_count": 43,
   "id": "7780e0a1",
   "metadata": {},
   "outputs": [
    {
     "data": {
      "image/png": "[encoded data removed]",
      "text/plain": [
       "<Figure size 432x288 with 1 Axes>"
      ]
     },
     "metadata": {
      "needs_background": "light"
     },
     "output_type": "display_data"
    }
   ],
   "source": [
    "I1 = importances(rf1, X_train1, y_train1)\n",
    "I1.plot(kind = 'bar')\n",
    "plt.show()"
   ]
  },
  {
   "cell_type": "code",
   "execution_count": 44,
   "id": "8ca9ae9d",
   "metadata": {},
   "outputs": [],
   "source": [
    "X_train3 = train1.drop(['GEO','NAICS','Labour_characteristics','VALUE', 'Sex', 'Age group'],axis='columns')\n",
    "y_train3 = train1['VALUE']\n",
    "\n",
    "\n",
    "X_test3 = test1.drop(['GEO','NAICS','Labour_characteristics','VALUE', 'Sex', 'Age group'],axis='columns')\n",
    "y_test3 = test1['VALUE']"
   ]
  },
  {
   "cell_type": "markdown",
   "id": "8bce1265",
   "metadata": {},
   "source": [
    "#### Linear Regression Model with important features"
   ]
  },
  {
   "cell_type": "code",
   "execution_count": 45,
   "id": "c3c47a54",
   "metadata": {},
   "outputs": [
    {
     "data": {
      "text/plain": [
       "LinearRegression()"
      ]
     },
     "execution_count": 45,
     "metadata": {},
     "output_type": "execute_result"
    }
   ],
   "source": [
    "regressor = LinearRegression()\n",
    "regressor.fit(X_train3, y_train3)"
   ]
  },
  {
   "cell_type": "code",
   "execution_count": 46,
   "id": "912ff29a",
   "metadata": {},
   "outputs": [],
   "source": [
    "y_pred5 = regressor.predict(X_test3)"
   ]
  },
  {
   "cell_type": "code",
   "execution_count": 47,
   "id": "78b037d3",
   "metadata": {},
   "outputs": [
    {
     "name": "stdout",
     "output_type": "stream",
     "text": [
      "139.86169982689023\n",
      "36990.11918219538\n",
      "11.82631387317664\n"
     ]
    }
   ],
   "source": [
    "# Print result of MAE\n",
    "print(metrics.mean_absolute_error(y_test3, y_pred5))\n",
    "\n",
    "# Print result of MSE\n",
    "print(metrics.mean_squared_error(y_test3, y_pred5))\n",
    "\n",
    "# Print result of RMSE\n",
    "print(np.sqrt(metrics.mean_absolute_error(y_test3, y_pred5)))"
   ]
  },
  {
   "cell_type": "code",
   "execution_count": 48,
   "id": "f5241e3b",
   "metadata": {},
   "outputs": [
    {
     "name": "stdout",
     "output_type": "stream",
     "text": [
      "Accuracy: 88.17 %.\n"
     ]
    }
   ],
   "source": [
    "# Calculate and display accuracy\n",
    "accuracy = 100 - np.sqrt(metrics.mean_absolute_error(y_test3, y_pred5))\n",
    "print('Accuracy:', round(accuracy, 2), '%.')"
   ]
  },
  {
   "cell_type": "markdown",
   "id": "85c82867",
   "metadata": {},
   "source": [
    "#### Random Forest Regressor with important features"
   ]
  },
  {
   "cell_type": "code",
   "execution_count": 49,
   "id": "b535ed43",
   "metadata": {},
   "outputs": [
    {
     "data": {
      "text/plain": [
       "RandomForestRegressor(n_estimators=1000, random_state=1)"
      ]
     },
     "execution_count": 49,
     "metadata": {},
     "output_type": "execute_result"
    }
   ],
   "source": [
    "# Instantiate model with 1000 decision trees\n",
    "rf5 = RandomForestRegressor(n_estimators = 1000, random_state = 1)\n",
    "# Train the model on training data\n",
    "rf5.fit(X_train3, y_train3)"
   ]
  },
  {
   "cell_type": "code",
   "execution_count": 50,
   "id": "b00b1d9d",
   "metadata": {},
   "outputs": [],
   "source": [
    "y_pred6 = rf5.predict(X_test3)"
   ]
  },
  {
   "cell_type": "code",
   "execution_count": 51,
   "id": "faa94e49",
   "metadata": {},
   "outputs": [
    {
     "name": "stdout",
     "output_type": "stream",
     "text": [
      "62.25967675886332\n",
      "33001.41645119499\n",
      "7.890480134875401\n"
     ]
    }
   ],
   "source": [
    "# Print result of MAE\n",
    "print(metrics.mean_absolute_error(y_test3, y_pred6))\n",
    "\n",
    "# Print result of MSE\n",
    "print(metrics.mean_squared_error(y_test3, y_pred6))\n",
    "\n",
    "# Print result of RMSE\n",
    "print(np.sqrt(metrics.mean_absolute_error(y_test3, y_pred6)))"
   ]
  },
  {
   "cell_type": "code",
   "execution_count": 52,
   "id": "02a9453c",
   "metadata": {},
   "outputs": [
    {
     "name": "stdout",
     "output_type": "stream",
     "text": [
      "Accuracy: 92.11 %.\n"
     ]
    }
   ],
   "source": [
    "# Calculate and display accuracy\n",
    "accuracy = 100 - np.sqrt(metrics.mean_absolute_error(y_test3, y_pred6))\n",
    "print('Accuracy:', round(accuracy, 2), '%.')"
   ]
  },
  {
   "cell_type": "markdown",
   "id": "e91ad5df",
   "metadata": {},
   "source": [
    "#### Results on 'Before_Pandemic(2017-2019)' dataset \n",
    "\n",
    "| Model | Accuracy(Without feature importance) | Accuracy(With feature importance) |\n",
    "|:-:|:-:|:-:|\n",
    "| Linear Regression | 87.72% | 87.83% |\n",
    "| Random Forest Regressor| 97.87% | 91.01% |"
   ]
  },
  {
   "cell_type": "markdown",
   "id": "a04181c4",
   "metadata": {},
   "source": [
    "#### Results on 'During_Pandemic(2020-2021)' dataset\n",
    "\n",
    "| Model | Accuracy(Without feature importance) | Accuracy(With feature importance) |\n",
    "|:-:|:-:|:-:|\n",
    "| Linear Regression | 88.08% | 88.17% |\n",
    "| Random Forest Regressor| 97.33% | 92.33% |"
   ]
  },
  {
   "cell_type": "markdown",
   "id": "d2134dda",
   "metadata": {},
   "source": [
    "- After observing the result, we can conclude that all features together work better compare to only important features."
   ]
  }
 ],
 "metadata": {
  "kernelspec": {
   "display_name": "Python 3 (ipykernel)",
   "language": "python",
   "name": "python3"
  },
  "language_info": {
   "codemirror_mode": {
    "name": "ipython",
    "version": 3
   },
   "file_extension": ".py",
   "mimetype": "text/x-python",
   "name": "python",
   "nbconvert_exporter": "python",
   "pygments_lexer": "ipython3",
   "version": "3.8.11"
  }
 },
 "nbformat": 4,
 "nbformat_minor": 5
}
