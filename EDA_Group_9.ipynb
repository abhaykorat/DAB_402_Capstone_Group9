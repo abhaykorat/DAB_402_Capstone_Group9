{
 "cells": [
  {
   "cell_type": "markdown",
   "id": "cf7229f8",
   "metadata": {},
   "source": [
    " EDA Topic:\n",
    " PREDICT WORKFORCE REQUIREMENT USING MACHINE LEARNING ALGORITHMS AND ANALYSIS\n",
    " \n",
    "Group Members:GROUP(9)\n",
    "\n",
    "•\tAbhay Korat – 0779708\n",
    "•\tNishtha Vijay Mistri – 0780925\n",
    "•\tKuldeep Thakor – 0770272\n",
    "•\tAshish Thomas Alex – 0787653"
   ]
  },
  {
   "cell_type": "code",
   "execution_count": 1,
   "id": "2ff96e39",
   "metadata": {},
   "outputs": [],
   "source": [
    "# Import all necessary packages\n",
    "import numpy as np\n",
    "import pandas as pd\n",
    "import seaborn as sns\n",
    "import matplotlib.pyplot as plt\n",
    "import datetime as dt"
   ]
  },
  {
   "cell_type": "code",
   "execution_count": 2,
   "id": "b94eb127",
   "metadata": {},
   "outputs": [],
   "source": [
    "# Loading dataset\n",
    "data = pd.read_csv(\"F:\\Semester-4\\Capstone\\Dataset\\Dataset_1.csv\")"
   ]
  },
  {
   "cell_type": "markdown",
   "id": "de195e92",
   "metadata": {},
   "source": [
    "## Understanding the Data"
   ]
  },
  {
   "cell_type": "code",
   "execution_count": 3,
   "id": "38be8a92",
   "metadata": {},
   "outputs": [
    {
     "data": {
      "text/html": [
       "<div>\n",
       "<style scoped>\n",
       "    .dataframe tbody tr th:only-of-type {\n",
       "        vertical-align: middle;\n",
       "    }\n",
       "\n",
       "    .dataframe tbody tr th {\n",
       "        vertical-align: top;\n",
       "    }\n",
       "\n",
       "    .dataframe thead th {\n",
       "        text-align: right;\n",
       "    }\n",
       "</style>\n",
       "<table border=\"1\" class=\"dataframe\">\n",
       "  <thead>\n",
       "    <tr style=\"text-align: right;\">\n",
       "      <th></th>\n",
       "      <th>REF_DATE</th>\n",
       "      <th>GEO</th>\n",
       "      <th>DGUID</th>\n",
       "      <th>Labour force characteristics</th>\n",
       "      <th>North American Industry Classification System (NAICS)</th>\n",
       "      <th>Sex</th>\n",
       "      <th>Age group</th>\n",
       "      <th>UOM</th>\n",
       "      <th>UOM_ID</th>\n",
       "      <th>SCALAR_FACTOR</th>\n",
       "      <th>SCALAR_ID</th>\n",
       "      <th>VECTOR</th>\n",
       "      <th>COORDINATE</th>\n",
       "      <th>VALUE</th>\n",
       "      <th>STATUS</th>\n",
       "      <th>SYMBOL</th>\n",
       "      <th>TERMINATED</th>\n",
       "      <th>DECIMALS</th>\n",
       "    </tr>\n",
       "  </thead>\n",
       "  <tbody>\n",
       "    <tr>\n",
       "      <th>0</th>\n",
       "      <td>1976</td>\n",
       "      <td>Canada</td>\n",
       "      <td>2016A000011124</td>\n",
       "      <td>Labour force</td>\n",
       "      <td>Total, all industries</td>\n",
       "      <td>Both sexes</td>\n",
       "      <td>15 years and over</td>\n",
       "      <td>Persons</td>\n",
       "      <td>249</td>\n",
       "      <td>thousands</td>\n",
       "      <td>3</td>\n",
       "      <td>v2363353</td>\n",
       "      <td>1.1.1.1.1</td>\n",
       "      <td>10491.3</td>\n",
       "      <td>NaN</td>\n",
       "      <td>NaN</td>\n",
       "      <td>NaN</td>\n",
       "      <td>1</td>\n",
       "    </tr>\n",
       "    <tr>\n",
       "      <th>1</th>\n",
       "      <td>1976</td>\n",
       "      <td>Canada</td>\n",
       "      <td>2016A000011124</td>\n",
       "      <td>Labour force</td>\n",
       "      <td>Total, all industries</td>\n",
       "      <td>Both sexes</td>\n",
       "      <td>15 to 24 years</td>\n",
       "      <td>Persons</td>\n",
       "      <td>249</td>\n",
       "      <td>thousands</td>\n",
       "      <td>3</td>\n",
       "      <td>v19668072</td>\n",
       "      <td>1.1.1.1.2</td>\n",
       "      <td>2891.9</td>\n",
       "      <td>NaN</td>\n",
       "      <td>NaN</td>\n",
       "      <td>NaN</td>\n",
       "      <td>1</td>\n",
       "    </tr>\n",
       "    <tr>\n",
       "      <th>2</th>\n",
       "      <td>1976</td>\n",
       "      <td>Canada</td>\n",
       "      <td>2016A000011124</td>\n",
       "      <td>Labour force</td>\n",
       "      <td>Total, all industries</td>\n",
       "      <td>Both sexes</td>\n",
       "      <td>25 to 54 years</td>\n",
       "      <td>Persons</td>\n",
       "      <td>249</td>\n",
       "      <td>thousands</td>\n",
       "      <td>3</td>\n",
       "      <td>v19668073</td>\n",
       "      <td>1.1.1.1.3</td>\n",
       "      <td>6410.7</td>\n",
       "      <td>NaN</td>\n",
       "      <td>NaN</td>\n",
       "      <td>NaN</td>\n",
       "      <td>1</td>\n",
       "    </tr>\n",
       "    <tr>\n",
       "      <th>3</th>\n",
       "      <td>1976</td>\n",
       "      <td>Canada</td>\n",
       "      <td>2016A000011124</td>\n",
       "      <td>Labour force</td>\n",
       "      <td>Total, all industries</td>\n",
       "      <td>Both sexes</td>\n",
       "      <td>55 years and over</td>\n",
       "      <td>Persons</td>\n",
       "      <td>249</td>\n",
       "      <td>thousands</td>\n",
       "      <td>3</td>\n",
       "      <td>v19668074</td>\n",
       "      <td>1.1.1.1.4</td>\n",
       "      <td>1188.7</td>\n",
       "      <td>NaN</td>\n",
       "      <td>NaN</td>\n",
       "      <td>NaN</td>\n",
       "      <td>1</td>\n",
       "    </tr>\n",
       "    <tr>\n",
       "      <th>4</th>\n",
       "      <td>1976</td>\n",
       "      <td>Canada</td>\n",
       "      <td>2016A000011124</td>\n",
       "      <td>Labour force</td>\n",
       "      <td>Total, all industries</td>\n",
       "      <td>Males</td>\n",
       "      <td>15 years and over</td>\n",
       "      <td>Persons</td>\n",
       "      <td>249</td>\n",
       "      <td>thousands</td>\n",
       "      <td>3</td>\n",
       "      <td>v2363523</td>\n",
       "      <td>1.1.1.2.1</td>\n",
       "      <td>6549.6</td>\n",
       "      <td>NaN</td>\n",
       "      <td>NaN</td>\n",
       "      <td>NaN</td>\n",
       "      <td>1</td>\n",
       "    </tr>\n",
       "  </tbody>\n",
       "</table>\n",
       "</div>"
      ],
      "text/plain": [
       "   REF_DATE     GEO           DGUID Labour force characteristics  \\\n",
       "0      1976  Canada  2016A000011124                 Labour force   \n",
       "1      1976  Canada  2016A000011124                 Labour force   \n",
       "2      1976  Canada  2016A000011124                 Labour force   \n",
       "3      1976  Canada  2016A000011124                 Labour force   \n",
       "4      1976  Canada  2016A000011124                 Labour force   \n",
       "\n",
       "  North American Industry Classification System (NAICS)         Sex  \\\n",
       "0                              Total, all industries     Both sexes   \n",
       "1                              Total, all industries     Both sexes   \n",
       "2                              Total, all industries     Both sexes   \n",
       "3                              Total, all industries     Both sexes   \n",
       "4                              Total, all industries          Males   \n",
       "\n",
       "           Age group      UOM  UOM_ID SCALAR_FACTOR  SCALAR_ID     VECTOR  \\\n",
       "0  15 years and over  Persons     249     thousands          3   v2363353   \n",
       "1     15 to 24 years  Persons     249     thousands          3  v19668072   \n",
       "2     25 to 54 years  Persons     249     thousands          3  v19668073   \n",
       "3  55 years and over  Persons     249     thousands          3  v19668074   \n",
       "4  15 years and over  Persons     249     thousands          3   v2363523   \n",
       "\n",
       "  COORDINATE    VALUE STATUS  SYMBOL  TERMINATED  DECIMALS  \n",
       "0  1.1.1.1.1  10491.3    NaN     NaN         NaN         1  \n",
       "1  1.1.1.1.2   2891.9    NaN     NaN         NaN         1  \n",
       "2  1.1.1.1.3   6410.7    NaN     NaN         NaN         1  \n",
       "3  1.1.1.1.4   1188.7    NaN     NaN         NaN         1  \n",
       "4  1.1.1.2.1   6549.6    NaN     NaN         NaN         1  "
      ]
     },
     "execution_count": 3,
     "metadata": {},
     "output_type": "execute_result"
    }
   ],
   "source": [
    "# To view first five row of the dataset\n",
    "data.head()"
   ]
  },
  {
   "cell_type": "code",
   "execution_count": 4,
   "id": "7bd1b65d",
   "metadata": {},
   "outputs": [
    {
     "data": {
      "text/html": [
       "<div>\n",
       "<style scoped>\n",
       "    .dataframe tbody tr th:only-of-type {\n",
       "        vertical-align: middle;\n",
       "    }\n",
       "\n",
       "    .dataframe tbody tr th {\n",
       "        vertical-align: top;\n",
       "    }\n",
       "\n",
       "    .dataframe thead th {\n",
       "        text-align: right;\n",
       "    }\n",
       "</style>\n",
       "<table border=\"1\" class=\"dataframe\">\n",
       "  <thead>\n",
       "    <tr style=\"text-align: right;\">\n",
       "      <th></th>\n",
       "      <th>REF_DATE</th>\n",
       "      <th>GEO</th>\n",
       "      <th>DGUID</th>\n",
       "      <th>Labour force characteristics</th>\n",
       "      <th>North American Industry Classification System (NAICS)</th>\n",
       "      <th>Sex</th>\n",
       "      <th>Age group</th>\n",
       "      <th>UOM</th>\n",
       "      <th>UOM_ID</th>\n",
       "      <th>SCALAR_FACTOR</th>\n",
       "      <th>SCALAR_ID</th>\n",
       "      <th>VECTOR</th>\n",
       "      <th>COORDINATE</th>\n",
       "      <th>VALUE</th>\n",
       "      <th>STATUS</th>\n",
       "      <th>SYMBOL</th>\n",
       "      <th>TERMINATED</th>\n",
       "      <th>DECIMALS</th>\n",
       "    </tr>\n",
       "  </thead>\n",
       "  <tbody>\n",
       "    <tr>\n",
       "      <th>953827</th>\n",
       "      <td>2021</td>\n",
       "      <td>British Columbia</td>\n",
       "      <td>2016A000259</td>\n",
       "      <td>Unemployment rate</td>\n",
       "      <td>Public administration [91]</td>\n",
       "      <td>Males</td>\n",
       "      <td>55 years and over</td>\n",
       "      <td>Percentage</td>\n",
       "      <td>242</td>\n",
       "      <td>units</td>\n",
       "      <td>0</td>\n",
       "      <td>v19684898</td>\n",
       "      <td>11.6.28.2.4</td>\n",
       "      <td>NaN</td>\n",
       "      <td>x</td>\n",
       "      <td>NaN</td>\n",
       "      <td>NaN</td>\n",
       "      <td>1</td>\n",
       "    </tr>\n",
       "    <tr>\n",
       "      <th>953828</th>\n",
       "      <td>2021</td>\n",
       "      <td>British Columbia</td>\n",
       "      <td>2016A000259</td>\n",
       "      <td>Unemployment rate</td>\n",
       "      <td>Public administration [91]</td>\n",
       "      <td>Females</td>\n",
       "      <td>15 years and over</td>\n",
       "      <td>Percentage</td>\n",
       "      <td>242</td>\n",
       "      <td>units</td>\n",
       "      <td>0</td>\n",
       "      <td>v2368960</td>\n",
       "      <td>11.6.28.3.1</td>\n",
       "      <td>NaN</td>\n",
       "      <td>x</td>\n",
       "      <td>NaN</td>\n",
       "      <td>NaN</td>\n",
       "      <td>1</td>\n",
       "    </tr>\n",
       "    <tr>\n",
       "      <th>953829</th>\n",
       "      <td>2021</td>\n",
       "      <td>British Columbia</td>\n",
       "      <td>2016A000259</td>\n",
       "      <td>Unemployment rate</td>\n",
       "      <td>Public administration [91]</td>\n",
       "      <td>Females</td>\n",
       "      <td>15 to 24 years</td>\n",
       "      <td>Percentage</td>\n",
       "      <td>242</td>\n",
       "      <td>units</td>\n",
       "      <td>0</td>\n",
       "      <td>v19684899</td>\n",
       "      <td>11.6.28.3.2</td>\n",
       "      <td>NaN</td>\n",
       "      <td>x</td>\n",
       "      <td>NaN</td>\n",
       "      <td>NaN</td>\n",
       "      <td>1</td>\n",
       "    </tr>\n",
       "    <tr>\n",
       "      <th>953830</th>\n",
       "      <td>2021</td>\n",
       "      <td>British Columbia</td>\n",
       "      <td>2016A000259</td>\n",
       "      <td>Unemployment rate</td>\n",
       "      <td>Public administration [91]</td>\n",
       "      <td>Females</td>\n",
       "      <td>25 to 54 years</td>\n",
       "      <td>Percentage</td>\n",
       "      <td>242</td>\n",
       "      <td>units</td>\n",
       "      <td>0</td>\n",
       "      <td>v19684900</td>\n",
       "      <td>11.6.28.3.3</td>\n",
       "      <td>NaN</td>\n",
       "      <td>x</td>\n",
       "      <td>NaN</td>\n",
       "      <td>NaN</td>\n",
       "      <td>1</td>\n",
       "    </tr>\n",
       "    <tr>\n",
       "      <th>953831</th>\n",
       "      <td>2021</td>\n",
       "      <td>British Columbia</td>\n",
       "      <td>2016A000259</td>\n",
       "      <td>Unemployment rate</td>\n",
       "      <td>Public administration [91]</td>\n",
       "      <td>Females</td>\n",
       "      <td>55 years and over</td>\n",
       "      <td>Percentage</td>\n",
       "      <td>242</td>\n",
       "      <td>units</td>\n",
       "      <td>0</td>\n",
       "      <td>v19684901</td>\n",
       "      <td>11.6.28.3.4</td>\n",
       "      <td>NaN</td>\n",
       "      <td>x</td>\n",
       "      <td>NaN</td>\n",
       "      <td>NaN</td>\n",
       "      <td>1</td>\n",
       "    </tr>\n",
       "  </tbody>\n",
       "</table>\n",
       "</div>"
      ],
      "text/plain": [
       "        REF_DATE               GEO        DGUID Labour force characteristics  \\\n",
       "953827      2021  British Columbia  2016A000259            Unemployment rate   \n",
       "953828      2021  British Columbia  2016A000259            Unemployment rate   \n",
       "953829      2021  British Columbia  2016A000259            Unemployment rate   \n",
       "953830      2021  British Columbia  2016A000259            Unemployment rate   \n",
       "953831      2021  British Columbia  2016A000259            Unemployment rate   \n",
       "\n",
       "       North American Industry Classification System (NAICS)      Sex  \\\n",
       "953827                         Public administration [91]       Males   \n",
       "953828                         Public administration [91]     Females   \n",
       "953829                         Public administration [91]     Females   \n",
       "953830                         Public administration [91]     Females   \n",
       "953831                         Public administration [91]     Females   \n",
       "\n",
       "                Age group         UOM  UOM_ID SCALAR_FACTOR  SCALAR_ID  \\\n",
       "953827  55 years and over  Percentage     242         units          0   \n",
       "953828  15 years and over  Percentage     242         units          0   \n",
       "953829     15 to 24 years  Percentage     242         units          0   \n",
       "953830     25 to 54 years  Percentage     242         units          0   \n",
       "953831  55 years and over  Percentage     242         units          0   \n",
       "\n",
       "           VECTOR   COORDINATE  VALUE STATUS  SYMBOL  TERMINATED  DECIMALS  \n",
       "953827  v19684898  11.6.28.2.4    NaN      x     NaN         NaN         1  \n",
       "953828   v2368960  11.6.28.3.1    NaN      x     NaN         NaN         1  \n",
       "953829  v19684899  11.6.28.3.2    NaN      x     NaN         NaN         1  \n",
       "953830  v19684900  11.6.28.3.3    NaN      x     NaN         NaN         1  \n",
       "953831  v19684901  11.6.28.3.4    NaN      x     NaN         NaN         1  "
      ]
     },
     "execution_count": 4,
     "metadata": {},
     "output_type": "execute_result"
    }
   ],
   "source": [
    "# To view last five row of the dataset\n",
    "data.tail()"
   ]
  },
  {
   "cell_type": "code",
   "execution_count": 5,
   "id": "94336ec9",
   "metadata": {},
   "outputs": [
    {
     "data": {
      "text/plain": [
       "(953832, 18)"
      ]
     },
     "execution_count": 5,
     "metadata": {},
     "output_type": "execute_result"
    }
   ],
   "source": [
    "# To display count of row and columns\n",
    "data.shape"
   ]
  },
  {
   "cell_type": "code",
   "execution_count": 6,
   "id": "5cbbb22e",
   "metadata": {},
   "outputs": [
    {
     "data": {
      "text/html": [
       "<div>\n",
       "<style scoped>\n",
       "    .dataframe tbody tr th:only-of-type {\n",
       "        vertical-align: middle;\n",
       "    }\n",
       "\n",
       "    .dataframe tbody tr th {\n",
       "        vertical-align: top;\n",
       "    }\n",
       "\n",
       "    .dataframe thead th {\n",
       "        text-align: right;\n",
       "    }\n",
       "</style>\n",
       "<table border=\"1\" class=\"dataframe\">\n",
       "  <thead>\n",
       "    <tr style=\"text-align: right;\">\n",
       "      <th></th>\n",
       "      <th>REF_DATE</th>\n",
       "      <th>UOM_ID</th>\n",
       "      <th>SCALAR_ID</th>\n",
       "      <th>VALUE</th>\n",
       "      <th>SYMBOL</th>\n",
       "      <th>TERMINATED</th>\n",
       "      <th>DECIMALS</th>\n",
       "    </tr>\n",
       "  </thead>\n",
       "  <tbody>\n",
       "    <tr>\n",
       "      <th>count</th>\n",
       "      <td>953832.000000</td>\n",
       "      <td>953832.000000</td>\n",
       "      <td>953832.000000</td>\n",
       "      <td>676194.000000</td>\n",
       "      <td>0.0</td>\n",
       "      <td>0.0</td>\n",
       "      <td>953832.0</td>\n",
       "    </tr>\n",
       "    <tr>\n",
       "      <th>mean</th>\n",
       "      <td>1999.938555</td>\n",
       "      <td>247.848187</td>\n",
       "      <td>2.506366</td>\n",
       "      <td>82.815491</td>\n",
       "      <td>NaN</td>\n",
       "      <td>NaN</td>\n",
       "      <td>1.0</td>\n",
       "    </tr>\n",
       "    <tr>\n",
       "      <th>std</th>\n",
       "      <td>12.754305</td>\n",
       "      <td>2.595385</td>\n",
       "      <td>1.112308</td>\n",
       "      <td>452.486303</td>\n",
       "      <td>NaN</td>\n",
       "      <td>NaN</td>\n",
       "      <td>0.0</td>\n",
       "    </tr>\n",
       "    <tr>\n",
       "      <th>min</th>\n",
       "      <td>1976.000000</td>\n",
       "      <td>242.000000</td>\n",
       "      <td>0.000000</td>\n",
       "      <td>0.200000</td>\n",
       "      <td>NaN</td>\n",
       "      <td>NaN</td>\n",
       "      <td>1.0</td>\n",
       "    </tr>\n",
       "    <tr>\n",
       "      <th>25%</th>\n",
       "      <td>1990.000000</td>\n",
       "      <td>249.000000</td>\n",
       "      <td>3.000000</td>\n",
       "      <td>2.600000</td>\n",
       "      <td>NaN</td>\n",
       "      <td>NaN</td>\n",
       "      <td>1.0</td>\n",
       "    </tr>\n",
       "    <tr>\n",
       "      <th>50%</th>\n",
       "      <td>2000.000000</td>\n",
       "      <td>249.000000</td>\n",
       "      <td>3.000000</td>\n",
       "      <td>8.000000</td>\n",
       "      <td>NaN</td>\n",
       "      <td>NaN</td>\n",
       "      <td>1.0</td>\n",
       "    </tr>\n",
       "    <tr>\n",
       "      <th>75%</th>\n",
       "      <td>2011.000000</td>\n",
       "      <td>249.000000</td>\n",
       "      <td>3.000000</td>\n",
       "      <td>29.600000</td>\n",
       "      <td>NaN</td>\n",
       "      <td>NaN</td>\n",
       "      <td>1.0</td>\n",
       "    </tr>\n",
       "    <tr>\n",
       "      <th>max</th>\n",
       "      <td>2021.000000</td>\n",
       "      <td>249.000000</td>\n",
       "      <td>3.000000</td>\n",
       "      <td>20385.300000</td>\n",
       "      <td>NaN</td>\n",
       "      <td>NaN</td>\n",
       "      <td>1.0</td>\n",
       "    </tr>\n",
       "  </tbody>\n",
       "</table>\n",
       "</div>"
      ],
      "text/plain": [
       "            REF_DATE         UOM_ID      SCALAR_ID          VALUE  SYMBOL  \\\n",
       "count  953832.000000  953832.000000  953832.000000  676194.000000     0.0   \n",
       "mean     1999.938555     247.848187       2.506366      82.815491     NaN   \n",
       "std        12.754305       2.595385       1.112308     452.486303     NaN   \n",
       "min      1976.000000     242.000000       0.000000       0.200000     NaN   \n",
       "25%      1990.000000     249.000000       3.000000       2.600000     NaN   \n",
       "50%      2000.000000     249.000000       3.000000       8.000000     NaN   \n",
       "75%      2011.000000     249.000000       3.000000      29.600000     NaN   \n",
       "max      2021.000000     249.000000       3.000000   20385.300000     NaN   \n",
       "\n",
       "       TERMINATED  DECIMALS  \n",
       "count         0.0  953832.0  \n",
       "mean          NaN       1.0  \n",
       "std           NaN       0.0  \n",
       "min           NaN       1.0  \n",
       "25%           NaN       1.0  \n",
       "50%           NaN       1.0  \n",
       "75%           NaN       1.0  \n",
       "max           NaN       1.0  "
      ]
     },
     "execution_count": 6,
     "metadata": {},
     "output_type": "execute_result"
    }
   ],
   "source": [
    "# To view statistics of the dataset\n",
    "data.describe()"
   ]
  },
  {
   "cell_type": "code",
   "execution_count": 7,
   "id": "a09793e6",
   "metadata": {},
   "outputs": [
    {
     "data": {
      "text/plain": [
       "Index(['REF_DATE', 'GEO', 'DGUID', 'Labour force characteristics',\n",
       "       'North American Industry Classification System (NAICS)', 'Sex',\n",
       "       'Age group', 'UOM', 'UOM_ID', 'SCALAR_FACTOR', 'SCALAR_ID', 'VECTOR',\n",
       "       'COORDINATE', 'VALUE', 'STATUS', 'SYMBOL', 'TERMINATED', 'DECIMALS'],\n",
       "      dtype='object')"
      ]
     },
     "execution_count": 7,
     "metadata": {},
     "output_type": "execute_result"
    }
   ],
   "source": [
    "# To Display feature names\n",
    "data.columns"
   ]
  },
  {
   "cell_type": "markdown",
   "id": "ba0d5957",
   "metadata": {},
   "source": [
    "## Cleaning the dataset"
   ]
  },
  {
   "cell_type": "code",
   "execution_count": 8,
   "id": "055d4516",
   "metadata": {},
   "outputs": [],
   "source": [
    "# Removing irrelevant columns from data\n",
    "data1 = data.drop(['TERMINATED','SYMBOL','DGUID','UOM','UOM_ID','COORDINATE','VECTOR','SCALAR_FACTOR','SCALAR_ID','STATUS','DECIMALS'],axis=1)"
   ]
  },
  {
   "cell_type": "code",
   "execution_count": 9,
   "id": "72e79eef",
   "metadata": {},
   "outputs": [
    {
     "data": {
      "text/plain": [
       "REF_DATE                                                   int64\n",
       "GEO                                                       object\n",
       "Labour force characteristics                              object\n",
       "North American Industry Classification System (NAICS)     object\n",
       "Sex                                                       object\n",
       "Age group                                                 object\n",
       "VALUE                                                    float64\n",
       "dtype: object"
      ]
     },
     "execution_count": 9,
     "metadata": {},
     "output_type": "execute_result"
    }
   ],
   "source": [
    "# Data types of 'data1'\n",
    "data1.dtypes"
   ]
  },
  {
   "cell_type": "code",
   "execution_count": 10,
   "id": "28b25039",
   "metadata": {},
   "outputs": [
    {
     "data": {
      "text/plain": [
       "(953832, 7)"
      ]
     },
     "execution_count": 10,
     "metadata": {},
     "output_type": "execute_result"
    }
   ],
   "source": [
    "# Checking no. of columns and rows of dataset\n",
    "data1.shape"
   ]
  },
  {
   "cell_type": "code",
   "execution_count": 11,
   "id": "f7ac8dc9",
   "metadata": {},
   "outputs": [
    {
     "data": {
      "text/plain": [
       "REF_DATE                                                      0\n",
       "GEO                                                           0\n",
       "Labour force characteristics                                  0\n",
       "North American Industry Classification System (NAICS)         0\n",
       "Sex                                                           0\n",
       "Age group                                                     0\n",
       "VALUE                                                    277638\n",
       "dtype: int64"
      ]
     },
     "execution_count": 11,
     "metadata": {},
     "output_type": "execute_result"
    }
   ],
   "source": [
    "# Checking for null values\n",
    "data1.isnull().sum()"
   ]
  },
  {
   "cell_type": "code",
   "execution_count": 12,
   "id": "4c9a2406",
   "metadata": {},
   "outputs": [],
   "source": [
    "# Removing null values \n",
    "data2 = data1.dropna(how='any',axis=0)"
   ]
  },
  {
   "cell_type": "code",
   "execution_count": 13,
   "id": "18e5405c",
   "metadata": {},
   "outputs": [
    {
     "data": {
      "text/plain": [
       "REF_DATE                                                 0\n",
       "GEO                                                      0\n",
       "Labour force characteristics                             0\n",
       "North American Industry Classification System (NAICS)    0\n",
       "Sex                                                      0\n",
       "Age group                                                0\n",
       "VALUE                                                    0\n",
       "dtype: int64"
      ]
     },
     "execution_count": 13,
     "metadata": {},
     "output_type": "execute_result"
    }
   ],
   "source": [
    "# After removing null values\n",
    "data2.isnull().sum()"
   ]
  },
  {
   "cell_type": "code",
   "execution_count": 14,
   "id": "63b4eff9",
   "metadata": {},
   "outputs": [
    {
     "data": {
      "text/plain": [
       "(676194, 7)"
      ]
     },
     "execution_count": 14,
     "metadata": {},
     "output_type": "execute_result"
    }
   ],
   "source": [
    "# Checking no. of rows and cloumns\n",
    "data2.shape"
   ]
  },
  {
   "cell_type": "code",
   "execution_count": 15,
   "id": "5968467e",
   "metadata": {},
   "outputs": [
    {
     "data": {
      "text/plain": [
       "REF_DATE                                                    46\n",
       "GEO                                                         11\n",
       "Labour force characteristics                                 6\n",
       "North American Industry Classification System (NAICS)       29\n",
       "Sex                                                          3\n",
       "Age group                                                    4\n",
       "VALUE                                                    17312\n",
       "dtype: int64"
      ]
     },
     "execution_count": 15,
     "metadata": {},
     "output_type": "execute_result"
    }
   ],
   "source": [
    "# Checking for unique values in data\n",
    "data2.nunique()"
   ]
  },
  {
   "cell_type": "markdown",
   "id": "9f3a3531",
   "metadata": {},
   "source": [
    "## Analysing the dataset variables"
   ]
  },
  {
   "cell_type": "code",
   "execution_count": 21,
   "id": "c5546011",
   "metadata": {},
   "outputs": [
    {
     "data": {
      "text/plain": [
       "<seaborn.axisgrid.FacetGrid at 0x1ec3e8118b0>"
      ]
     },
     "execution_count": 21,
     "metadata": {},
     "output_type": "execute_result"
    },
    {
     "data": {
      "image/png": "[encoded data removed]",
      "text/plain": [
       "<Figure size 360x360 with 1 Axes>"
      ]
     },
     "metadata": {
      "needs_background": "light"
     },
     "output_type": "display_data"
    }
   ],
   "source": [
    "sns.catplot(x=\"Sex\", y=\"VALUE\", data=data2)"
   ]
  },
  {
   "cell_type": "code",
   "execution_count": 22,
   "id": "eadf7ab8",
   "metadata": {},
   "outputs": [
    {
     "data": {
      "text/plain": [
       "<seaborn.axisgrid.FacetGrid at 0x1ec3f0a2a90>"
      ]
     },
     "execution_count": 22,
     "metadata": {},
     "output_type": "execute_result"
    },
    {
     "data": {
      "image/png": "[encoded data removed]",
      "text/plain": [
       "<Figure size 360x360 with 1 Axes>"
      ]
     },
     "metadata": {
      "needs_background": "light"
     },
     "output_type": "display_data"
    }
   ],
   "source": [
    "sns.catplot(x=\"VALUE\", y=\"Age group\", data=data2)"
   ]
  },
  {
   "cell_type": "code",
   "execution_count": 23,
   "id": "045cfdba",
   "metadata": {},
   "outputs": [
    {
     "data": {
      "text/plain": [
       "<seaborn.axisgrid.FacetGrid at 0x1ec3d797610>"
      ]
     },
     "execution_count": 23,
     "metadata": {},
     "output_type": "execute_result"
    },
    {
     "data": {
      "image/png": "[encoded data removed]",
      "text/plain": [
       "<Figure size 360x360 with 1 Axes>"
      ]
     },
     "metadata": {
      "needs_background": "light"
     },
     "output_type": "display_data"
    }
   ],
   "source": [
    "sns.catplot(x=\"VALUE\", y=\"Labour force characteristics\", data=data2)"
   ]
  },
  {
   "cell_type": "code",
   "execution_count": null,
   "id": "0366a405",
   "metadata": {},
   "outputs": [],
   "source": []
  }
 ],
 "metadata": {
  "kernelspec": {
   "display_name": "Python 3 (ipykernel)",
   "language": "python",
   "name": "python3"
  },
  "language_info": {
   "codemirror_mode": {
    "name": "ipython",
    "version": 3
   },
   "file_extension": ".py",
   "mimetype": "text/x-python",
   "name": "python",
   "nbconvert_exporter": "python",
   "pygments_lexer": "ipython3",
   "version": "3.8.11"
  }
 },
 "nbformat": 4,
 "nbformat_minor": 5
}
