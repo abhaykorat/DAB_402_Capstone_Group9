{
 "cells": [
  {
   "cell_type": "code",
   "execution_count": 1,
   "id": "5609cc9c",
   "metadata": {},
   "outputs": [],
   "source": [
    "%run Libraries.ipynb"
   ]
  },
  {
   "cell_type": "code",
   "execution_count": 2,
   "id": "a9d0592e",
   "metadata": {},
   "outputs": [],
   "source": [
    "# Importing monthly employment data\n",
    "df = pd.read_csv('14100355.csv')"
   ]
  },
  {
   "cell_type": "code",
   "execution_count": 3,
   "id": "3e7b2646",
   "metadata": {},
   "outputs": [],
   "source": [
    "# Dropping null value\n",
    "df = df.dropna(how='any',axis=0)"
   ]
  },
  {
   "cell_type": "code",
   "execution_count": 4,
   "id": "a1d40ddb",
   "metadata": {},
   "outputs": [
    {
     "data": {
      "text/plain": [
       "REF_DATE                                                 0\n",
       "GEO                                                      0\n",
       "North American Industry Classification System (NAICS)    0\n",
       "Statistics                                               0\n",
       "Data type                                                0\n",
       "VALUE                                                    0\n",
       "dtype: int64"
      ]
     },
     "execution_count": 4,
     "metadata": {},
     "output_type": "execute_result"
    }
   ],
   "source": [
    "df.isnull().sum()"
   ]
  },
  {
   "cell_type": "code",
   "execution_count": 5,
   "id": "deb89b35",
   "metadata": {},
   "outputs": [
    {
     "data": {
      "text/html": [
       "<div>\n",
       "<style scoped>\n",
       "    .dataframe tbody tr th:only-of-type {\n",
       "        vertical-align: middle;\n",
       "    }\n",
       "\n",
       "    .dataframe tbody tr th {\n",
       "        vertical-align: top;\n",
       "    }\n",
       "\n",
       "    .dataframe thead th {\n",
       "        text-align: right;\n",
       "    }\n",
       "</style>\n",
       "<table border=\"1\" class=\"dataframe\">\n",
       "  <thead>\n",
       "    <tr style=\"text-align: right;\">\n",
       "      <th></th>\n",
       "      <th>VALUE</th>\n",
       "    </tr>\n",
       "    <tr>\n",
       "      <th>REF_DATE</th>\n",
       "      <th></th>\n",
       "    </tr>\n",
       "  </thead>\n",
       "  <tbody>\n",
       "    <tr>\n",
       "      <th>1976-01-01</th>\n",
       "      <td>3707.4</td>\n",
       "    </tr>\n",
       "    <tr>\n",
       "      <th>1976-02-01</th>\n",
       "      <td>3713.4</td>\n",
       "    </tr>\n",
       "    <tr>\n",
       "      <th>1976-03-01</th>\n",
       "      <td>3728.4</td>\n",
       "    </tr>\n",
       "    <tr>\n",
       "      <th>1976-04-01</th>\n",
       "      <td>3735.7</td>\n",
       "    </tr>\n",
       "    <tr>\n",
       "      <th>1976-05-01</th>\n",
       "      <td>3734.2</td>\n",
       "    </tr>\n",
       "    <tr>\n",
       "      <th>...</th>\n",
       "      <td>...</td>\n",
       "    </tr>\n",
       "    <tr>\n",
       "      <th>2022-01-01</th>\n",
       "      <td>7493.5</td>\n",
       "    </tr>\n",
       "    <tr>\n",
       "      <th>2022-02-01</th>\n",
       "      <td>7687.8</td>\n",
       "    </tr>\n",
       "    <tr>\n",
       "      <th>2022-03-01</th>\n",
       "      <td>7722.9</td>\n",
       "    </tr>\n",
       "    <tr>\n",
       "      <th>2022-04-01</th>\n",
       "      <td>7737.2</td>\n",
       "    </tr>\n",
       "    <tr>\n",
       "      <th>2022-05-01</th>\n",
       "      <td>7739.1</td>\n",
       "    </tr>\n",
       "  </tbody>\n",
       "</table>\n",
       "<p>557 rows × 1 columns</p>\n",
       "</div>"
      ],
      "text/plain": [
       "             VALUE\n",
       "REF_DATE          \n",
       "1976-01-01  3707.4\n",
       "1976-02-01  3713.4\n",
       "1976-03-01  3728.4\n",
       "1976-04-01  3735.7\n",
       "1976-05-01  3734.2\n",
       "...            ...\n",
       "2022-01-01  7493.5\n",
       "2022-02-01  7687.8\n",
       "2022-03-01  7722.9\n",
       "2022-04-01  7737.2\n",
       "2022-05-01  7739.1\n",
       "\n",
       "[557 rows x 1 columns]"
      ]
     },
     "execution_count": 5,
     "metadata": {},
     "output_type": "execute_result"
    }
   ],
   "source": [
    "# Selecting only necessory value from individual column\n",
    "temp = df.copy()\n",
    "temp = temp[temp['North American Industry Classification System (NAICS)'] == 'Total employed, all industries'].reset_index(drop=True)\n",
    "temp = temp[temp['GEO'] == 'Ontario'].reset_index(drop=True)\n",
    "temp = temp[temp['Statistics'] == 'Estimate'].reset_index(drop=True)\n",
    "temp = temp[temp['Data type'] == 'Seasonally adjusted'].reset_index(drop=True)\n",
    "Date = pd.to_datetime(temp['REF_DATE'],format='%Y/%m/%d')\n",
    "temp = temp.drop(['REF_DATE', 'GEO','North American Industry Classification System (NAICS)','REF_DATE','Statistics','Data type'], axis=1)\n",
    "result = pd.concat([temp], axis=1)\n",
    "total_employ = result.set_index(Date)\n",
    "total_employ"
   ]
  },
  {
   "cell_type": "markdown",
   "id": "bfb238d9",
   "metadata": {},
   "source": [
    "### LSTM Forecasting"
   ]
  },
  {
   "cell_type": "code",
   "execution_count": 6,
   "id": "a838e27c",
   "metadata": {},
   "outputs": [
    {
     "data": {
      "text/plain": [
       "521"
      ]
     },
     "execution_count": 6,
     "metadata": {},
     "output_type": "execute_result"
    }
   ],
   "source": [
    "# Defining train length\n",
    "train_length = round(len(total_employ) * 0.935)\n",
    "train_length"
   ]
  },
  {
   "cell_type": "code",
   "execution_count": 7,
   "id": "1dbbaab4",
   "metadata": {},
   "outputs": [],
   "source": [
    "# Creating function for training and testing data\n",
    "def train_test_data(total_employ, train_length):\n",
    "    training_set = total_employ.iloc[0:train_length]\n",
    "    testing_set = total_employ.iloc[train_length:,:]\n",
    "    \n",
    "    #Scaling \n",
    "    scaler = MinMaxScaler(feature_range=(0,1))\n",
    "    training_set = scaler.fit_transform(training_set)\n",
    "    \n",
    "    x_train = []\n",
    "    y_train = []\n",
    "    \n",
    "    for i in range(24, len(training_set)):\n",
    "        x_train.append(training_set[i-24:i, 0])\n",
    "        y_train.append(training_set[i, 0])\n",
    "    \n",
    "    #Converting into numpy array and reshaping the dimensions required for LSTM\n",
    "    x_train, y_train = np.array(x_train), np.array(y_train)\n",
    "    x_train = np.reshape(x_train, (x_train.shape[0], x_train.shape[1],1))\n",
    "    \n",
    "    testing_inputs = total_employ[len(total_employ) - len(testing_set) - 24:].values\n",
    "    testing_inputs_scaled = scaler.transform(testing_inputs)\n",
    "    \n",
    "    x_test=[]\n",
    "    for i in range(24, len(total_employ)-len(x_train)):\n",
    "        x_test.append(testing_inputs_scaled[i-24:i, 0])\n",
    "    \n",
    "    x_test = np.array(x_test)\n",
    "    x_test = np.reshape(x_test, (x_test.shape[0], x_test.shape[1], 1))\n",
    "    y_test = total_employ[len(training_set):]\n",
    "    y_test = scaler.transform(y_test)\n",
    "    \n",
    "    print('The size of: \\nX_train: ' +str(x_train.shape))\n",
    "    print('Y_train: ' +str(y_train.shape))\n",
    "    print(\"X_test: \" + str(x_test.shape))\n",
    "    print(\"Y_test: \" +str(y_test.shape))\n",
    "    \n",
    "    return x_train, x_test, y_train, y_test, scaler"
   ]
  },
  {
   "cell_type": "code",
   "execution_count": 8,
   "id": "145b7e16",
   "metadata": {},
   "outputs": [
    {
     "name": "stdout",
     "output_type": "stream",
     "text": [
      "The size of: \n",
      "X_train: (497, 24, 1)\n",
      "Y_train: (497,)\n",
      "X_test: (36, 24, 1)\n",
      "Y_test: (36, 1)\n"
     ]
    }
   ],
   "source": [
    "x_train, x_test, y_train, y_test, scaler = train_test_data(total_employ, train_length)"
   ]
  },
  {
   "cell_type": "code",
   "execution_count": 10,
   "id": "5b4e7559",
   "metadata": {},
   "outputs": [],
   "source": [
    "# Defining mean absolute percentage error\n",
    "def mape(y_test, y_pred):\n",
    "    y_test, y_pred = np.array(y_test), np.array(y_pred).reshape(-1,1)\n",
    "    return np.mean((np.abs((y_test - y_pred) / y_test) * 100))"
   ]
  },
  {
   "cell_type": "code",
   "execution_count": 11,
   "id": "d5d569e5",
   "metadata": {},
   "outputs": [],
   "source": [
    "# Defining funcion for model loss\n",
    "def plot_model_loss(history):\n",
    "    plt.figure(figsize=(10,5))\n",
    "    plt.plot(history.history['loss'], label='Training loss')\n",
    "    plt.plot(history.history['val_loss'], label='Validation loss')\n",
    "    plt.legend()\n",
    "    plt.ylabel('Error')\n",
    "    plt.xlabel('Epochs')\n",
    "    plt.title('Training and Validation loss')\n",
    "    plt.show()"
   ]
  },
  {
   "cell_type": "code",
   "execution_count": 12,
   "id": "b65fb0a8",
   "metadata": {},
   "outputs": [],
   "source": [
    "# Defining fuction to plot predictions\n",
    "def plot_predict(model):\n",
    "    global df, x_test, y_test, total_employ\n",
    "    y_pred = model.predict(x_test)\n",
    "    y_pred = scaler.inverse_transform(y_pred)\n",
    "    train_set = total_employ[:train_length]\n",
    "    valid_set = total_employ[train_length:]\n",
    "    valid_set['Predicted'] = y_pred\n",
    "    y_test = y_test\n",
    "    print('MSE: ' +str(mse(y_test, y_pred)))\n",
    "    print('RMSE: ' +str(np.sqrt(mse(y_test, y_pred))))\n",
    "    print('MAE:' + str(mae(y_test, y_pred)))\n",
    "    print('MAPE: ' +str(mape(y_test, y_pred)))\n",
    "    plt.figure(figsize=(10,5))\n",
    "    plt.plot(train_set)\n",
    "    plt.plot(valid_set[['VALUE', 'Predicted']])\n",
    "    plt.legend([\"Train\", 'Validation', 'Predict'])\n",
    "    plt.ylabel('Value')\n",
    "    plt.xlabel('Year')\n",
    "    plt.title(\"Employment Forecasting using LSTM\")\n",
    "    plt.show()"
   ]
  },
  {
   "cell_type": "code",
   "execution_count": 13,
   "id": "b440fc69",
   "metadata": {},
   "outputs": [],
   "source": [
    "# To display run-time of the model\n",
    "log_dir = f\"{int(time.time())}\""
   ]
  },
  {
   "cell_type": "code",
   "execution_count": 14,
   "id": "4b83c4ef",
   "metadata": {},
   "outputs": [],
   "source": [
    "# Creating fuction for tuning LSTM model\n",
    "def build_model(hp):\n",
    "    model = Sequential()\n",
    "    model.add(LSTM(hp.Int('Initial_nodes', 64,128,2), activation='relu', input_shape=(x_train.shape[1], x_train.shape[2]), return_sequences=True))\n",
    "    for i in range(hp.Int('n_layers_lstm', 4,8)):\n",
    "        model.add(LSTM(hp.Int(\"inner_layers\", 86,128,4), activation='tanh', return_sequences=True))\n",
    "        if i % 2 ==0:\n",
    "            model.add(Dropout(0.2))\n",
    "    model.add(LSTM(hp.Int('Last_nodes', 32,64,4), activation='relu', return_sequences=False))\n",
    "    for i in range(hp.Int('n_layers_dense', 2,3,4)):\n",
    "        model.add(Dense(hp.Int('Dense_nodes', 16,32,4)))\n",
    "        model.add(Dense(hp.Int('Dense_nodes2', 8,16,2)))\n",
    "    model.add(Dense(1))\n",
    "    model.compile(optimizer=keras.optimizers.Adam(hp.Choice('learning_rate', [1e-2, 1e-3, 1e-4])), loss='mse')\n",
    "    \n",
    "    return model"
   ]
  },
  {
   "cell_type": "code",
   "execution_count": 15,
   "id": "52ef42d7",
   "metadata": {},
   "outputs": [
    {
     "name": "stdout",
     "output_type": "stream",
     "text": [
      "Trial 15 Complete [00h 02m 10s]\n",
      "val_loss: 0.008140829391777515\n",
      "\n",
      "Best val_loss So Far: 0.007996367290616035\n",
      "Total elapsed time: 01h 41m 36s\n",
      "INFO:tensorflow:Oracle triggered exit\n"
     ]
    }
   ],
   "source": [
    "# Define and search tuner \n",
    "tuner = RandomSearch(build_model, \n",
    "                    objective='val_loss',\n",
    "                    max_trials=15,\n",
    "                    executions_per_trial=1,\n",
    "                    directory= log_dir)\n",
    "tuner.search(x=x_train, y=y_train, epochs=20,batch_size=8, validation_data=(x_test, y_test))"
   ]
  },
  {
   "cell_type": "code",
   "execution_count": 16,
   "id": "557555e0",
   "metadata": {},
   "outputs": [
    {
     "name": "stdout",
     "output_type": "stream",
     "text": [
      "Model: \"sequential\"\n",
      "_________________________________________________________________\n",
      "Layer (type)                 Output Shape              Param #   \n",
      "=================================================================\n",
      "lstm (LSTM)                  (None, 24, 94)            36096     \n",
      "_________________________________________________________________\n",
      "lstm_1 (LSTM)                (None, 24, 90)            66600     \n",
      "_________________________________________________________________\n",
      "dropout (Dropout)            (None, 24, 90)            0         \n",
      "_________________________________________________________________\n",
      "lstm_2 (LSTM)                (None, 24, 90)            65160     \n",
      "_________________________________________________________________\n",
      "lstm_3 (LSTM)                (None, 24, 90)            65160     \n",
      "_________________________________________________________________\n",
      "dropout_1 (Dropout)          (None, 24, 90)            0         \n",
      "_________________________________________________________________\n",
      "lstm_4 (LSTM)                (None, 24, 90)            65160     \n",
      "_________________________________________________________________\n",
      "lstm_5 (LSTM)                (None, 24, 90)            65160     \n",
      "_________________________________________________________________\n",
      "dropout_2 (Dropout)          (None, 24, 90)            0         \n",
      "_________________________________________________________________\n",
      "lstm_6 (LSTM)                (None, 24, 90)            65160     \n",
      "_________________________________________________________________\n",
      "lstm_7 (LSTM)                (None, 24, 90)            65160     \n",
      "_________________________________________________________________\n",
      "dropout_3 (Dropout)          (None, 24, 90)            0         \n",
      "_________________________________________________________________\n",
      "lstm_8 (LSTM)                (None, 24, 90)            65160     \n",
      "_________________________________________________________________\n",
      "lstm_9 (LSTM)                (None, 40)                20960     \n",
      "_________________________________________________________________\n",
      "dense (Dense)                (None, 32)                1312      \n",
      "_________________________________________________________________\n",
      "dense_1 (Dense)              (None, 10)                330       \n",
      "_________________________________________________________________\n",
      "dense_2 (Dense)              (None, 32)                352       \n",
      "_________________________________________________________________\n",
      "dense_3 (Dense)              (None, 10)                330       \n",
      "_________________________________________________________________\n",
      "dense_4 (Dense)              (None, 1)                 11        \n",
      "=================================================================\n",
      "Total params: 582,111\n",
      "Trainable params: 582,111\n",
      "Non-trainable params: 0\n",
      "_________________________________________________________________\n",
      "MSE: 53013422.02940601\n",
      "RMSE: 7281.031659689856\n",
      "MAE:7281.006079633566\n",
      "MAPE: 748929.3310083095\n"
     ]
    },
    {
     "data": {
      "image/png": "[encoded data removed]",
      "text/plain": [
       "<Figure size 720x360 with 1 Axes>"
      ]
     },
     "metadata": {
      "needs_background": "light"
     },
     "output_type": "display_data"
    }
   ],
   "source": [
    "# Displaying best model summary\n",
    "best_model = tuner.get_best_models(num_models=1)[0]\n",
    "best_model.summary()\n",
    "plot_predict(best_model)"
   ]
  },
  {
   "cell_type": "markdown",
   "id": "fc54595f",
   "metadata": {},
   "source": [
    "### ARIMA Forecasting "
   ]
  },
  {
   "cell_type": "code",
   "execution_count": 17,
   "id": "60cff102",
   "metadata": {},
   "outputs": [],
   "source": [
    "# Decompose the time series\n",
    "def decomposing():\n",
    "    global df\n",
    "    industry = total_employ\n",
    "    decomp = seasonal_decompose(industry)\n",
    "\n",
    "    plt.figure(figsize=(20,8))\n",
    "    decomp.plot()\n",
    "    plt.show()\n",
    "    return decomp"
   ]
  },
  {
   "cell_type": "code",
   "execution_count": 18,
   "id": "0816c600",
   "metadata": {},
   "outputs": [
    {
     "data": {
      "text/plain": [
       "<Figure size 1440x576 with 0 Axes>"
      ]
     },
     "metadata": {},
     "output_type": "display_data"
    },
    {
     "data": {
      "image/png": "[encoded data removed]",
      "text/plain": [
       "<Figure size 432x288 with 4 Axes>"
      ]
     },
     "metadata": {
      "needs_background": "light"
     },
     "output_type": "display_data"
    }
   ],
   "source": [
    "decomp = decomposing()"
   ]
  },
  {
   "cell_type": "code",
   "execution_count": 19,
   "id": "96f61292",
   "metadata": {},
   "outputs": [],
   "source": [
    "# Creating function to check stationarity in data\n",
    "def check_stationary(industry):\n",
    "    results = adfuller(industry)\n",
    "    \n",
    "    print(\"Using the Dicky Fuller Test. \\n\\nThe P-Value for this test is \" +str(results[1]))\n",
    "    if results[1] <= 0.05:\n",
    "        print(\"Strong evidence as the p-value is under 0.05. The data is stationary\")\n",
    "    else:\n",
    "        print(\"Weak evidence as the p-value is above 0.05. Time series has unit root, indicating the data is Non-Stationary\")\n",
    "        print(\"\\nConverting to Stationary...\")\n",
    "        industry_diff = industry.diff().dropna()\n",
    "        print(\"After Conversion\")\n",
    "        check_stationary(industry_diff)"
   ]
  },
  {
   "cell_type": "code",
   "execution_count": 20,
   "id": "f4de90cb",
   "metadata": {},
   "outputs": [
    {
     "name": "stdout",
     "output_type": "stream",
     "text": [
      "Using the Dicky Fuller Test. \n",
      "\n",
      "The P-Value for this test is 0.9397984035531334\n",
      "Weak evidence as the p-value is above 0.05. Time series has unit root, indicating the data is Non-Stationary\n",
      "\n",
      "Converting to Stationary...\n",
      "After Conversion\n",
      "Using the Dicky Fuller Test. \n",
      "\n",
      "The P-Value for this test is 3.0283454448091426e-09\n",
      "Strong evidence as the p-value is under 0.05. The data is stationary\n"
     ]
    }
   ],
   "source": [
    "check_stationary(total_employ)"
   ]
  },
  {
   "cell_type": "code",
   "execution_count": 21,
   "id": "58ceffef",
   "metadata": {},
   "outputs": [],
   "source": [
    "# Function to Fit ARIMA\n",
    "def fit_best_arima(data):\n",
    "    auto = pm.auto_arima(data, start_p=1, start_q=1,\n",
    "                               max_p=3, max_q=3, m=12,\n",
    "                               start_P=0, seasonal=True,\n",
    "                               d=1, D=1, trace=False,\n",
    "                               error_action='ignore',  \n",
    "                               suppress_warnings=True, \n",
    "                               stepwise=True)\n",
    "    \n",
    "    return auto"
   ]
  },
  {
   "cell_type": "code",
   "execution_count": 22,
   "id": "c4b2507d",
   "metadata": {},
   "outputs": [],
   "source": [
    "# Function to forecast results\n",
    "def forecast_results(results):\n",
    "    forecast = results.get_forecast(steps =76)\n",
    "    mean_forecast= forecast.predicted_mean\n",
    "    confidence_intervals= forecast.conf_int()\n",
    "    confidence_intervals\n",
    "    # Select lower and upper confidence limits\n",
    "    lower_limits = confidence_intervals.loc[:]\n",
    "    upper_limits = confidence_intervals.loc[:]\n",
    "\n",
    "    # Print best estimate predictions\n",
    "    #print(mean_forecast2)\n",
    "    return mean_forecast, lower_limits, upper_limits"
   ]
  },
  {
   "cell_type": "code",
   "execution_count": 23,
   "id": "8a2c45b4",
   "metadata": {},
   "outputs": [],
   "source": [
    "# Function to evaluate forecast performance \n",
    "def forecast_performance():\n",
    "    global df\n",
    "    \n",
    "    industry_test =  total_employ[(total_employ.index > '2016-01-01')]\n",
    "    industry_train = total_employ[(total_employ.index <= '2016-01-01')]\n",
    "    \n",
    "    auto = fit_best_arima(industry_train)\n",
    "    \n",
    "    best_sarimax = SARIMAX(industry_train, order=auto.order, seasonal_order=auto.seasonal_order,\n",
    "                                enforce_stationarity=False,\n",
    "                                enforce_invertibility=False, dynamic =True)\n",
    "    \n",
    "    results = best_sarimax.fit()\n",
    "    mean_forecast, lower_limits, upper_limits = forecast_results(results)\n",
    "    \n",
    "    plt.figure(figsize=(18,9))\n",
    "    plt.plot(industry_train.index, industry_train, label='observed')\n",
    "    \n",
    "    plt.plot(industry_test.index, industry_test, label='Testing')\n",
    "    #plt.legend([\"Train\",\"Validation\",\"Predict\"])\n",
    "    plt.legend([\"Train\",\"Validation\",\"Predict\"],loc =\"lower right\")\n",
    "    plt.ylabel('Value')\n",
    "    plt.xlabel('Year')\n",
    "    plt.title(\"Employment Forecasting using ARIMA\")\n",
    "        \n",
    "    plt.plot(mean_forecast.index, mean_forecast, color='green')\n",
    "    \n",
    "    y_pred = mean_forecast[:]\n",
    "    y_test = industry_test\n",
    "    \n",
    "    print('MSE: ' +str(mse(y_test, y_pred)))\n",
    "    print('RMSE: ' +str(np.sqrt(mse(y_test, y_pred))))\n",
    "    print('MAE:' + str(mae(y_test, y_pred)))\n",
    "    print('MAPE: ' +str(mape(y_test, y_pred)))\n"
   ]
  },
  {
   "cell_type": "code",
   "execution_count": 24,
   "id": "95cc2160",
   "metadata": {},
   "outputs": [
    {
     "name": "stdout",
     "output_type": "stream",
     "text": [
      "MSE: 48588.06408322379\n",
      "RMSE: 220.42700397914905\n",
      "MAE:152.0223374566854\n",
      "MAPE: 2.1178491783914546\n"
     ]
    },
    {
     "data": {
      "image/png": "[encoded data removed]",
      "text/plain": [
       "<Figure size 1296x648 with 1 Axes>"
      ]
     },
     "metadata": {
      "needs_background": "light"
     },
     "output_type": "display_data"
    }
   ],
   "source": [
    "forecast_performance()"
   ]
  }
 ],
 "metadata": {
  "kernelspec": {
   "display_name": "Python 3 (ipykernel)",
   "language": "python",
   "name": "python3"
  },
  "language_info": {
   "codemirror_mode": {
    "name": "ipython",
    "version": 3
   },
   "file_extension": ".py",
   "mimetype": "text/x-python",
   "name": "python",
   "nbconvert_exporter": "python",
   "pygments_lexer": "ipython3",
   "version": "3.8.11"
  }
 },
 "nbformat": 4,
 "nbformat_minor": 5
}
